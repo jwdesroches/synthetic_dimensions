{
 "cells": [
  {
   "cell_type": "code",
   "execution_count": null,
   "metadata": {},
   "outputs": [],
   "source": [
    "import sys\n",
    "import os\n",
    "sys.path.append(os.path.abspath(os.path.join(os.getcwd(), os.pardir)))\n",
    "from synth_dim_model import *\n",
    "\n",
    "import numpy as np\n",
    "import matplotlib.pyplot as plt\n",
    "from matplotlib.cm import get_cmap\n",
    "import pandas as pd\n",
    "\n",
    "import warnings\n",
    "warnings.filterwarnings(\"ignore\")"
   ]
  },
  {
   "cell_type": "code",
   "execution_count": null,
   "metadata": {},
   "outputs": [],
   "source": [
    "\"\"\"N = 2\n",
    "M = 5\n",
    "V = -1\n",
    "dt = 0.01\n",
    "\n",
    "time_options = np.linspace(0.1, 2.5, 50)\n",
    "final_J_V_ratios = np.linspace(0, 1.5, 50)\n",
    "time_options_grid, final_J_V_ratios_grid = np.meshgrid(time_options, final_J_V_ratios)\n",
    "probability_grid = np.zeros_like(time_options_grid)\n",
    "\n",
    "for idx1, time_option in enumerate(time_options):\n",
    "    time_array = [time_option, time_option, time_option, time_option]\n",
    "\n",
    "    for idx2, final_J_V_ratio in enumerate(final_J_V_ratios):\n",
    "\n",
    "        J_V_ratios = [\n",
    "            [0.1, 10],  # step 1\n",
    "            [10, 10],   # step 2\n",
    "            [10, 2],    # step 3\n",
    "            [2, final_J_V_ratio]    # step 4\n",
    "        ]\n",
    "\n",
    "        mu_V_ratios = [\n",
    "            [10, 10],  # step 1\n",
    "            [10, 0],   # step 2\n",
    "            [0, 0],    # step 3\n",
    "            [0, 0]     # step 4\n",
    "        ]\n",
    "\n",
    "        times, J_V_ratio_routine, mu_V_ratio_routine = make_linear_stepped_routines(J_V_ratios, mu_V_ratios, time_array, dt)\n",
    "\n",
    "        adiabatic_energies, adiabatic_wavefunctions, adiabatic_probabilities, adiabatic_overlaps, true_energies = \\\n",
    "            simulate_adiabatic_evolution(N, M, V, mu_V_ratio_routine, J_V_ratio_routine, times, dt=dt, initial_state=None)\n",
    "            \n",
    "        probability_grid[idx2, idx1] = adiabatic_probabilities[-1, 0]\n",
    "\"\"\""
   ]
  },
  {
   "cell_type": "code",
   "execution_count": null,
   "metadata": {},
   "outputs": [],
   "source": [
    "\"\"\"plt.pcolormesh(time_options_grid, final_J_V_ratios_grid, probability_grid, shading = \"auto\", cmap = \"plasma\", vmin = 0, vmax = 1)\n",
    "plt.colorbar(label=\"Ground State Probability\")\n",
    "plt.xlabel(\"$T/4$\")\n",
    "plt.ylabel(\"$J/|V|$\")\n",
    "plt.title(\"Lower Bound Probability Grid\")\n",
    "plt.xlim(0,1.6)\"\"\""
   ]
  },
  {
   "cell_type": "code",
   "execution_count": 5,
   "metadata": {},
   "outputs": [
    {
     "ename": "",
     "evalue": "",
     "output_type": "error",
     "traceback": [
      "\u001b[1;31mCannot execute code, session has been disposed. Please try restarting the Kernel."
     ]
    },
    {
     "ename": "",
     "evalue": "",
     "output_type": "error",
     "traceback": [
      "\u001b[1;31mCannot execute code, session has been disposed. Please try restarting the Kernel. \n",
      "\u001b[1;31mView Jupyter <a href='command:jupyter.viewOutput'>log</a> for further details."
     ]
    }
   ],
   "source": [
    "from concurrent.futures import ThreadPoolExecutor\n",
    "\n",
    "N = 2\n",
    "M = 5\n",
    "V = -1\n",
    "dt = 0.01\n",
    "\n",
    "time_options = np.linspace(0.1, 2.5, 50)\n",
    "final_J_V_ratios = np.linspace(0, 1.5, 50)\n",
    "time_options_grid, final_J_V_ratios_grid = np.meshgrid(time_options, final_J_V_ratios)\n",
    "probability_grid = np.zeros_like(time_options_grid)\n",
    "\n",
    "def calculate_probability(time_option, final_J_V_ratio):\n",
    "    time_array = [time_option, time_option, time_option, time_option]\n",
    "\n",
    "    J_V_ratios = [\n",
    "        [0.1, 10],  # step 1\n",
    "        [10, 10],   # step 2\n",
    "        [10, 2],    # step 3\n",
    "        [2, final_J_V_ratio]  # step 4\n",
    "    ]\n",
    "\n",
    "    mu_V_ratios = [\n",
    "        [10, 10],  # step 1\n",
    "        [10, 0],   # step 2\n",
    "        [0, 0],    # step 3\n",
    "        [0, 0]     # step 4\n",
    "    ]\n",
    "\n",
    "    times, J_V_ratio_routine, mu_V_ratio_routine = make_linear_stepped_routines(J_V_ratios, mu_V_ratios, time_array, dt)\n",
    "\n",
    "    adiabatic_energies, adiabatic_wavefunctions, adiabatic_probabilities, adiabatic_overlaps, true_energies = \\\n",
    "        simulate_adiabatic_evolution(N, M, V, mu_V_ratio_routine, J_V_ratio_routine, times, dt=dt, initial_state=None)\n",
    "    \n",
    "    probability = adiabatic_probabilities[-1, 0]\n",
    "    print(f\"Completed calculation for time_option: {time_option}, final_J_V_ratio: {final_J_V_ratio}, probability: {probability:.4f}\")\n",
    "    return (time_option, final_J_V_ratio, probability)\n",
    "\n",
    "# Run the calculations in parallel\n",
    "with ThreadPoolExecutor() as executor:\n",
    "    futures = []\n",
    "    for time_option in time_options:\n",
    "        for final_J_V_ratio in final_J_V_ratios:\n",
    "            futures.append(executor.submit(calculate_probability, time_option, final_J_V_ratio))\n",
    "\n",
    "    for future in futures:\n",
    "        time_option, final_J_V_ratio, probability = future.result()\n",
    "        idx1 = np.where(time_options == time_option)[0][0]\n",
    "        idx2 = np.where(final_J_V_ratios == final_J_V_ratio)[0][0]\n",
    "        probability_grid[idx2, idx1] = probability\n",
    "\n",
    "# Plotting\n",
    "plt.pcolormesh(time_options_grid, final_J_V_ratios_grid, probability_grid, shading=\"auto\", cmap=\"plasma\", vmin=0, vmax=1)\n",
    "plt.colorbar(label=\"Ground State Probability\")\n",
    "plt.xlabel(\"$T/4$\")\n",
    "plt.ylabel(\"$J/|V|$\")\n",
    "plt.title(\"Lower Bound Probability Grid\")\n",
    "plt.xlim(0, 1.6)\n",
    "plt.show()\n"
   ]
  },
  {
   "cell_type": "code",
   "execution_count": null,
   "metadata": {},
   "outputs": [],
   "source": [
    "# Exaggerate the time axis by a factor of 4\n",
    "exaggerated_time_options_grid = time_options_grid * 4\n",
    "\n",
    "# Plotting\n",
    "plt.pcolormesh(exaggerated_time_options_grid, final_J_V_ratios_grid, probability_grid, shading=\"auto\", cmap=\"plasma\", vmin=0, vmax=1)\n",
    "plt.colorbar(label=\"Ground State Probability\")\n",
    "plt.xlabel(\"$4T/4$\")\n",
    "plt.ylabel(\"$J/|V|$\")\n",
    "plt.title(\"Lower Bound Probability Grid\")\n",
    "plt.xlim(0, 4 * 1.6)  # Adjust xlim to match the exaggerated scale\n",
    "plt.show()\n"
   ]
  },
  {
   "cell_type": "code",
   "execution_count": null,
   "metadata": {},
   "outputs": [],
   "source": []
  }
 ],
 "metadata": {
  "kernelspec": {
   "display_name": "synthetic_dim",
   "language": "python",
   "name": "python3"
  },
  "language_info": {
   "codemirror_mode": {
    "name": "ipython",
    "version": 3
   },
   "file_extension": ".py",
   "mimetype": "text/x-python",
   "name": "python",
   "nbconvert_exporter": "python",
   "pygments_lexer": "ipython3",
   "version": "3.12.4"
  }
 },
 "nbformat": 4,
 "nbformat_minor": 2
}
