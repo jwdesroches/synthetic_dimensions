{
 "cells": [
  {
   "cell_type": "code",
   "execution_count": 12,
   "metadata": {},
   "outputs": [],
   "source": [
    "import sys\n",
    "import os\n",
    "sys.path.append(os.path.abspath(os.path.join(os.getcwd(), os.pardir)))\n",
    "from synth_dim_model import *\n",
    "\n",
    "import numpy as np\n",
    "import matplotlib.pyplot as plt\n",
    "from matplotlib.cm import get_cmap\n",
    "import random"
   ]
  },
  {
   "cell_type": "code",
   "execution_count": 13,
   "metadata": {},
   "outputs": [
    {
     "name": "stderr",
     "output_type": "stream",
     "text": [
      "C:\\Users\\jwdes\\AppData\\Local\\Temp\\ipykernel_15820\\3146586324.py:13: MatplotlibDeprecationWarning: The get_cmap function was deprecated in Matplotlib 3.7 and will be removed two minor releases later. Use ``matplotlib.colormaps[name]`` or ``matplotlib.colormaps.get_cmap(obj)`` instead.\n",
      "  cmap = get_cmap(\"gist_rainbow\", len(t_total_values))\n"
     ]
    }
   ],
   "source": [
    "# Parameters\n",
    "N = 2\n",
    "M = 2\n",
    "mu = 10\n",
    "V = 1\n",
    "\n",
    "t_total_values = [10,100,500,1000]  # List of t_total values to test\n",
    "t_points = 100  # Higher resolution for better accuracy\n",
    "\n",
    "# Prepare the figure\n",
    "fig, ax = plt.subplots()\n",
    "\n",
    "cmap = get_cmap(\"gist_rainbow\", len(t_total_values))\n",
    "\n",
    "for i, t_total in enumerate(t_total_values):\n",
    "    color = cmap(i)\n",
    "    # Random J/V ratio for each t_total\n",
    "    J_V_ratio = 5\n",
    "    J = J_V_ratio * V\n",
    "\n",
    "    # Construct Hamiltonians\n",
    "    H0 = construct_initial_hamiltonian(N, M, mu)\n",
    "    Hf = construct_hamiltonian(N, M, J, V)\n",
    "\n",
    "    # Initial state\n",
    "    eigvals, eigvecs = np.linalg.eigh(H0)\n",
    "    psi0 = eigvecs[:, 0]\n",
    "    psi0 = psi0 / np.linalg.norm(psi0)  # Ensure normalization\n",
    "\n",
    "    # Evolve the system\n",
    "    t, psi_t = evolve_system(H0, Hf, psi0, t_total, t_points, interpolation_type = \"linear\")\n",
    "\n",
    "    # Calculate ground state probabilities\n",
    "    ground_state_prob = np.zeros_like(t)\n",
    "    for i in range(len(t)):\n",
    "        s = np.sin((np.pi/2) * (t[i] / t_total))**2\n",
    "        H_s = construct_intermediate_hamiltonian(H0, Hf, s)\n",
    "        _, eigvecs_s = exact_diagonalize(H_s)\n",
    "        psi_ground_state_s = eigvecs_s[0]  # Ground state at time t\n",
    "        ground_state_prob[i] = np.abs(np.dot(np.conjugate(psi_ground_state_s), psi_t[:, i]))**2\n",
    "\n",
    "    # Plot the result for this t_total\n",
    "    ax.plot(t/t_total, ground_state_prob, '.', color = color, label=f\"$t_{{total}}$ = {t_total}\")\n",
    "\n",
    "# Customize the plot\n",
    "ax.set_xlabel(\"Time [t/t_total]\")\n",
    "ax.set_ylabel(\"Ground State Probability\")\n",
    "ax.set_title(f\"Adiabatic Evolution: N = {N}, M = {M}, J/V = {J_V_ratio}, $\\mu$ = {mu}\")\n",
    "ax.set_ylim(0, 1.05)\n",
    "ax.grid()\n",
    "ax.legend()\n",
    "\n",
    "# Show the plot\n",
    "plt.show()"
   ]
  },
  {
   "cell_type": "code",
   "execution_count": null,
   "metadata": {},
   "outputs": [],
   "source": []
  }
 ],
 "metadata": {
  "kernelspec": {
   "display_name": "synthetic_dim",
   "language": "python",
   "name": "python3"
  },
  "language_info": {
   "codemirror_mode": {
    "name": "ipython",
    "version": 3
   },
   "file_extension": ".py",
   "mimetype": "text/x-python",
   "name": "python",
   "nbconvert_exporter": "python",
   "pygments_lexer": "ipython3",
   "version": "3.8.19"
  }
 },
 "nbformat": 4,
 "nbformat_minor": 2
}
