{
 "cells": [
  {
   "cell_type": "code",
   "execution_count": null,
   "metadata": {
    "vscode": {
     "languageId": "plaintext"
    }
   },
   "outputs": [],
   "source": [
    "import sys\n",
    "import os\n",
    "sys.path.append(os.path.abspath(os.path.join(os.getcwd(), os.pardir)))\n",
    "from synth_dim_model import *\n",
    "\n",
    "import numpy as np\n",
    "import matplotlib.pyplot as plt\n",
    "from matplotlib.cm import get_cmap\n",
    "import pandas as pd\n",
    "\n",
    "import warnings\n",
    "warnings.filterwarnings(\"ignore\")"
   ]
  },
  {
   "cell_type": "code",
   "execution_count": null,
   "metadata": {
    "vscode": {
     "languageId": "plaintext"
    }
   },
   "outputs": [],
   "source": [
    "# these don't change\n",
    "\n",
    "N = 2\n",
    "M = 5\n",
    "V = -1\n",
    "dt = 0.01\n",
    "\n",
    "colors = get_cmap(\"gist_rainbow\", M**N)\n",
    "\n",
    "# first step evolution\n",
    "\n",
    "step_1_total_time = 7\n",
    "step_1_total_steps = int(step_1_total_time / dt)\n",
    "step_1_times = np.linspace(0, step_1_total_time, step_1_total_steps)\n",
    "\n",
    "step_1_mu_V_ratio_routine = np.linspace(10, 10, step_1_total_steps) # change these\n",
    "step_1_J_V_ratio_routine = np.linspace(0.1, 10, step_1_total_steps) # this too\n",
    "\n",
    "step_1_adiabatic_energies, step_1_adiabatic_wavefunctions, step_1_adiabatic_probabilities, step_1_adiabatic_overlaps, step_1_true_energies = \\\n",
    "    simulate_adiabatic_evolution(N, M, V, step_1_mu_V_ratio_routine, step_1_J_V_ratio_routine, step_1_times, dt=dt, initial_state=None)\n",
    "\n",
    "# second step evolution\n",
    "\n",
    "step_1_final_state = step_1_adiabatic_wavefunctions[-1]\n",
    "\n",
    "step_2_total_time = 5\n",
    "step_2_total_steps = int(step_1_total_time / dt)\n",
    "step_2_times = np.linspace(0, step_2_total_time, step_2_total_steps)\n",
    "\n",
    "step_2_mu_V_ratio_routine = np.linspace(10, 0, step_2_total_steps) # change these\n",
    "step_2_J_V_ratio_routine = np.linspace(10, 10, step_2_total_steps) # this too\n",
    "\n",
    "step_2_adiabatic_energies, step_2_adiabatic_wavefunctions, step_2_adiabatic_probabilities, step_2_adiabatic_overlaps, step_2_true_energies = \\\n",
    "    simulate_adiabatic_evolution(N, M, V, step_2_mu_V_ratio_routine, step_2_J_V_ratio_routine, step_2_times, dt=dt, initial_state=step_1_final_state)\n",
    "    \n",
    "# third step evolution\n",
    "\n",
    "step_2_final_state = step_2_adiabatic_wavefunctions[-1]\n",
    "\n",
    "step_3_total_time = 10\n",
    "step_3_total_steps = int(step_3_total_time / dt)\n",
    "step_3_times = np.linspace(0, step_3_total_time, step_3_total_steps)\n",
    "\n",
    "step_3_mu_V_ratio_routine = np.linspace(0, 0.5, step_3_total_steps) # change these\n",
    "step_3_J_V_ratio_routine = np.linspace(10, 0, step_3_total_steps) # this too\n",
    "\n",
    "step_3_adiabatic_energies, step_3_adiabatic_wavefunctions, step_3_adiabatic_probabilities, step_3_adiabatic_overlaps, step_3_true_energies = \\\n",
    "    simulate_adiabatic_evolution(N, M, V, step_3_mu_V_ratio_routine, step_3_J_V_ratio_routine, step_3_times, dt=dt, initial_state=step_2_final_state)\n",
    "    \n",
    "fig, ax = plt.subplots()\n",
    "\n",
    "for index in range(M**N):\n",
    "    if index == 0:\n",
    "        ax.plot(step_1_times, step_1_adiabatic_probabilities[:,index], color = \"k\")\n",
    "        ax.plot(step_2_times+step_1_total_time, step_2_adiabatic_probabilities[:,index], color = \"k\")\n",
    "        ax.plot(step_3_times+step_1_total_time+step_2_total_time, step_3_adiabatic_probabilities[:,index], color = \"k\")\n",
    "    else: \n",
    "        ax.plot(step_1_times, step_1_adiabatic_probabilities[:,index], color = colors(index))\n",
    "        ax.plot(step_2_times+step_1_total_time, step_2_adiabatic_probabilities[:,index], color = colors(index))\n",
    "        ax.plot(step_3_times+step_1_total_time+step_2_total_time, step_3_adiabatic_probabilities[:,index], color = colors(index))\n",
    "        \n",
    "ax.axvline(step_1_total_time, linestyle = \"--\", color = \"k\")\n",
    "ax.axvline(step_2_total_time, linestyle = \"--\", color = \"k\")\n",
    "\n",
    "ax.grid()\n",
    "ax.set_title(f\"Adiabatic Energy: $N={N}$, $M={M}$, $V<0$\")\n",
    "ax.set_xlabel(\"Time [$t/|V|$]\")\n",
    "ax.set_ylabel(\"Energy [$E/|V|$]\")"
   ]
  }
 ],
 "metadata": {
  "language_info": {
   "name": "python"
  }
 },
 "nbformat": 4,
 "nbformat_minor": 2
}
