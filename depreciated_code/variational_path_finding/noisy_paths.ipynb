{
 "cells": [
  {
   "cell_type": "code",
   "execution_count": 2,
   "metadata": {},
   "outputs": [],
   "source": [
    "import sys\n",
    "import os\n",
    "\n",
    "parent_dir = os.path.abspath(os.path.join(os.getcwd(), os.pardir))\n",
    "sys.path.append(parent_dir)\n",
    "\n",
    "from synth_dim_model import *\n",
    "\n",
    "import numpy as np\n",
    "import matplotlib.pyplot as plt\n",
    "from matplotlib.cm import get_cmap\n",
    "import pandas as pd\n",
    "\n",
    "import warnings\n",
    "warnings.filterwarnings(\"ignore\")"
   ]
  },
  {
   "cell_type": "code",
   "execution_count": null,
   "metadata": {},
   "outputs": [
    {
     "name": "stdout",
     "output_type": "stream",
     "text": [
      "Optimized J/V:\n",
      "0.1, 0.531, 0.87, 1.026, 1.056, 0.863, 0.5\n",
      "Optimized mu/V:\n",
      "10.0, 8.32, 6.632, 4.93, 3.226, 1.592, 0.0\n",
      "Optimized t/V:\n",
      "0.0, 0.001, 0.013, 1.489, 1.49, 3.182, 5.0\n"
     ]
    },
    {
     "ename": "ValueError",
     "evalue": "too many values to unpack (expected 6)",
     "output_type": "error",
     "traceback": [
      "\u001b[1;31m---------------------------------------------------------------------------\u001b[0m",
      "\u001b[1;31mValueError\u001b[0m                                Traceback (most recent call last)",
      "Cell \u001b[1;32mIn[5], line 36\u001b[0m\n\u001b[0;32m     33\u001b[0m \u001b[38;5;28mprint\u001b[39m(\u001b[38;5;124mf\u001b[39m\u001b[38;5;124m\"\u001b[39m\u001b[38;5;124mOptimized t/V:\u001b[39m\u001b[38;5;124m\"\u001b[39m)\n\u001b[0;32m     34\u001b[0m \u001b[38;5;28mprint\u001b[39m(\u001b[38;5;241m*\u001b[39m(np\u001b[38;5;241m.\u001b[39maround(t_control_opt,\u001b[38;5;241m3\u001b[39m)), sep \u001b[38;5;241m=\u001b[39m \u001b[38;5;124m\"\u001b[39m\u001b[38;5;124m, \u001b[39m\u001b[38;5;124m\"\u001b[39m)\n\u001b[1;32m---> 36\u001b[0m \u001b[43mplot_time_evolution\u001b[49m\u001b[43m(\u001b[49m\u001b[43mN\u001b[49m\u001b[43m,\u001b[49m\u001b[43m \u001b[49m\u001b[43mM\u001b[49m\u001b[43m,\u001b[49m\u001b[43m \u001b[49m\u001b[43msign_V\u001b[49m\u001b[43m \u001b[49m\u001b[38;5;241;43m=\u001b[39;49m\u001b[43m \u001b[49m\u001b[38;5;124;43m\"\u001b[39;49m\u001b[38;5;124;43mpositive\u001b[39;49m\u001b[38;5;124;43m\"\u001b[39;49m\u001b[43m,\u001b[49m\u001b[43m \u001b[49m\u001b[43mresults\u001b[49m\u001b[43m \u001b[49m\u001b[38;5;241;43m=\u001b[39;49m\u001b[43m \u001b[49m\u001b[43mresults\u001b[49m\u001b[43m,\u001b[49m\u001b[43m \u001b[49m\u001b[43mtimes\u001b[49m\u001b[43m \u001b[49m\u001b[38;5;241;43m=\u001b[39;49m\u001b[43m \u001b[49m\u001b[43mtimes_dense\u001b[49m\u001b[43m,\u001b[49m\u001b[43m \u001b[49m\u001b[43mJ_V_ratios\u001b[49m\u001b[43m \u001b[49m\u001b[38;5;241;43m=\u001b[39;49m\u001b[43m \u001b[49m\u001b[43mJ_V_path\u001b[49m\u001b[43m,\u001b[49m\u001b[43m \u001b[49m\u001b[43mmu_V_ratios\u001b[49m\u001b[38;5;241;43m=\u001b[39;49m\u001b[43m \u001b[49m\u001b[43mmu_V_path\u001b[49m\u001b[43m)\u001b[49m\n\u001b[0;32m     38\u001b[0m \u001b[38;5;28;01mif\u001b[39;00m np\u001b[38;5;241m.\u001b[39msign(V) \u001b[38;5;241m>\u001b[39m \u001b[38;5;241m0\u001b[39m:\n\u001b[0;32m     39\u001b[0m     plot_data(N, M, sign_V \u001b[38;5;241m=\u001b[39m \u001b[38;5;124m\"\u001b[39m\u001b[38;5;124mpositive\u001b[39m\u001b[38;5;124m\"\u001b[39m, gap_or_sigma\u001b[38;5;241m=\u001b[39m \u001b[38;5;124m\"\u001b[39m\u001b[38;5;124menergy_gap\u001b[39m\u001b[38;5;124m\"\u001b[39m, include_path \u001b[38;5;241m=\u001b[39m \u001b[38;5;28;01mTrue\u001b[39;00m, mu_V_ratios\u001b[38;5;241m=\u001b[39mmu_V_path, J_V_ratios\u001b[38;5;241m=\u001b[39m J_V_path, times \u001b[38;5;241m=\u001b[39m times_dense)\n",
      "File \u001b[1;32mc:\\Users\\jwdes\\python\\synthetic_dimensions\\synth_dim_model.py:531\u001b[0m, in \u001b[0;36mplot_time_evolution\u001b[1;34m(N, M, sign_V, results, times, J_V_ratios, mu_V_ratios, plot_probability, plot_gap, plot_overlaps, plot_sigma, plot_ground_state_manifold_overlaps)\u001b[0m\n\u001b[0;32m    502\u001b[0m \u001b[38;5;28;01mdef\u001b[39;00m \u001b[38;5;21mplot_time_evolution\u001b[39m(N, M, sign_V, results, times, J_V_ratios, mu_V_ratios, plot_probability\u001b[38;5;241m=\u001b[39m\u001b[38;5;28;01mTrue\u001b[39;00m, plot_gap\u001b[38;5;241m=\u001b[39m\u001b[38;5;28;01mTrue\u001b[39;00m, plot_overlaps\u001b[38;5;241m=\u001b[39m\u001b[38;5;28;01mTrue\u001b[39;00m, plot_sigma\u001b[38;5;241m=\u001b[39m\u001b[38;5;28;01mTrue\u001b[39;00m, plot_ground_state_manifold_overlaps \u001b[38;5;241m=\u001b[39m \u001b[38;5;28;01mTrue\u001b[39;00m):\n\u001b[0;32m    503\u001b[0m \u001b[38;5;250m    \u001b[39m\u001b[38;5;124;03m\"\"\"\u001b[39;00m\n\u001b[0;32m    504\u001b[0m \u001b[38;5;124;03m    Plots the time evolution of various observables of a quantum system.\u001b[39;00m\n\u001b[0;32m    505\u001b[0m \u001b[38;5;124;03m    \u001b[39;00m\n\u001b[1;32m   (...)\u001b[0m\n\u001b[0;32m    528\u001b[0m \u001b[38;5;124;03m    None\u001b[39;00m\n\u001b[0;32m    529\u001b[0m \u001b[38;5;124;03m    \"\"\"\u001b[39;00m\n\u001b[1;32m--> 531\u001b[0m     energies, time_evolved_wavefunctions, state_probabilities, state_overlaps, true_energies, ground_state_manifold_overlaps \u001b[38;5;241m=\u001b[39m results\n\u001b[0;32m    532\u001b[0m     energies \u001b[38;5;241m=\u001b[39m energies \u001b[38;5;241m*\u001b[39m \u001b[38;5;241m1\u001b[39m\u001b[38;5;241m/\u001b[39mN\n\u001b[0;32m    533\u001b[0m     true_energies \u001b[38;5;241m=\u001b[39m true_energies \u001b[38;5;241m*\u001b[39m \u001b[38;5;241m1\u001b[39m\u001b[38;5;241m/\u001b[39mN\n",
      "\u001b[1;31mValueError\u001b[0m: too many values to unpack (expected 6)"
     ]
    }
   ],
   "source": [
    "def make_noisy_path(path, noise_strength):\n",
    "    \"\"\"\n",
    "    Adds Gaussian noise to the interior of the given path, leaving the first and last points unchanged.\n",
    "    \"\"\"\n",
    "    noisy_path = path.copy()\n",
    "    if len(path) > 2:\n",
    "        noise = np.random.normal(0, noise_strength, size=path[1:-1].shape)\n",
    "        noisy_path[1:-1] += noise\n",
    "    return noisy_path\n",
    "\n",
    "N = 3\n",
    "M = 3\n",
    "V = 1\n",
    "T = 5\n",
    "dt = 0.01\n",
    "\n",
    "J_V_init = 0.1\n",
    "J_V_final = 0.5\n",
    "mu_V_init = 10\n",
    "mu_V_final = 0\n",
    "\n",
    "num_free_points = 5\n",
    "num_control_points = num_free_points + 2  # Intermediate free points + 2 end points\n",
    "\n",
    "# Run optimization\n",
    "results = create_optimal_piecewise_linear_paths(N, M, T, dt, V, J_V_init, J_V_final, mu_V_init, mu_V_final, num_control_points, alpha = 2)\n",
    "(times_dense, J_V_path, mu_V_path, obj_value, opt_params, t_control_opt, J_control_opt, mu_control_opt) = results\n",
    "\n",
    "print(f\"Optimized J/V:\")\n",
    "print(*(np.around(J_control_opt,3)), sep = \", \")\n",
    "print(f\"Optimized mu/V:\")\n",
    "print(*(np.around(mu_control_opt,3)), sep = \", \")\n",
    "print(f\"Optimized t/V:\")\n",
    "print(*(np.around(t_control_opt,3)), sep = \", \")\n",
    "\n",
    "\n",
    "\n",
    "\n",
    "plot_time_evolution(N, M, sign_V = \"positive\", results = results, times = times_dense, J_V_ratios = J_V_path, mu_V_ratios= mu_V_path)\n",
    "\n",
    "if np.sign(V) > 0:\n",
    "    plot_data(N, M, sign_V = \"positive\", gap_or_sigma= \"energy_gap\", include_path = True, mu_V_ratios=mu_V_path, J_V_ratios= J_V_path, times = times_dense)\n",
    "\n",
    "noise_strength = 0.1\n",
    "J_V_path_noisy = make_noisy_path(J_V_path, noise_strength)\n",
    "mu_V_path_noisy = make_noisy_path(mu_V_path, noise_strength)\n",
    "\n",
    "noisy_hamiltonians = []\n",
    "for i, t in enumerate(times_dense):\n",
    "    ham = construct_rescaled_hamiltonian(N, M, V,\n",
    "                                         mu_V_ratio=mu_V_path_noisy[i],\n",
    "                                         J_V_ratio=J_V_path_noisy[i])\n",
    "    noisy_hamiltonians.append(ham)\n",
    "\n",
    "noisy_ham_results = simulate_hamiltonian_time_evolution(noisy_hamiltonians, times_dense)\n",
    "plot_time_evolution(N, M, sign_V = \"positive\", results = noisy_ham_results, times = times_dense, J_V_ratios = J_V_path_noisy, mu_V_ratios = mu_V_path_noisy)\n",
    "\n",
    "if np.sign(V) > 0:\n",
    "    plot_data(N, M, sign_V=\"positive\", gap_or_sigma=\"energy_gap\", include_path = True, mu_V_ratios = mu_V_path_noisy, J_V_ratios = J_V_path_noisy, times = times_dense)\n",
    "else:\n",
    "    plot_data(N, M, sign_V=\"negative\", gap_or_sigma=\"energy_gap\", include_path = True, mu_V_ratios = mu_V_path_noisy, J_V_ratios = J_V_path_noisy, times = times_dense)"
   ]
  },
  {
   "cell_type": "code",
   "execution_count": null,
   "metadata": {},
   "outputs": [],
   "source": [
    "noise_strengths = np.linspace(0,0.25,10)\n",
    "noisy_overlaps = []\n",
    "\n",
    "for noise_strength in noise_strengths:\n",
    "    J_V_path_noisy = make_noisy_path(J_V_path, noise_strength)\n",
    "    mu_V_path_noisy = make_noisy_path(mu_V_path, noise_strength)\n",
    "\n",
    "    noisy_hamiltonians = []\n",
    "    for i, t in enumerate(times_dense):\n",
    "        ham = construct_rescaled_hamiltonian(N, M, V,\n",
    "                                            mu_V_ratio=mu_V_path_noisy[i],\n",
    "                                            J_V_ratio=J_V_path_noisy[i])\n",
    "        noisy_hamiltonians.append(ham)\n",
    "\n",
    "    results = simulate_hamiltonian_time_evolution(noisy_hamiltonians, times_dense)\n",
    "    plot_time_evolution(N, M, results, times_dense, J_V_ratios=J_V_path_noisy, mu_V_ratios=mu_V_path_noisy, plot_overlaps = False, plot_sigma = False)\n",
    "    \n",
    "    (energies, time_evolved_wavefunctions, state_probabilities, state_overlaps, true_energies, ground_state_manifold_overlaps) = results\n",
    "    ground_state_manifold_overlap = ground_state_manifold_overlaps[-1]\n",
    "    noisy_overlaps.append(ground_state_manifold_overlap)\n",
    "    \n",
    "    if np.sign(V) > 0:\n",
    "        plot_data(N, M, sign_V=\"positive\", gap_or_sigma=\"energy_gap\", include_path = True, mu_V_ratios = mu_V_path_noisy, J_V_ratios = J_V_path_noisy, times = times_dense)\n",
    "    else:\n",
    "        plot_data(N, M, sign_V=\"negative\", gap_or_sigma=\"energy_gap\", include_path = True, mu_V_ratios = mu_V_path_noisy, J_V_ratios = J_V_path_noisy, times = times_dense)"
   ]
  },
  {
   "cell_type": "code",
   "execution_count": null,
   "metadata": {},
   "outputs": [
    {
     "ename": "NameError",
     "evalue": "name 'plt' is not defined",
     "output_type": "error",
     "traceback": [
      "\u001b[1;31m---------------------------------------------------------------------------\u001b[0m",
      "\u001b[1;31mNameError\u001b[0m                                 Traceback (most recent call last)",
      "Cell \u001b[1;32mIn[1], line 1\u001b[0m\n\u001b[1;32m----> 1\u001b[0m fig, ax \u001b[38;5;241m=\u001b[39m \u001b[43mplt\u001b[49m\u001b[38;5;241m.\u001b[39msubplots()\n\u001b[0;32m      2\u001b[0m ax\u001b[38;5;241m.\u001b[39mplot(noise_strengths, noisy_overlaps, \u001b[38;5;124m\"\u001b[39m\u001b[38;5;124m.k\u001b[39m\u001b[38;5;124m\"\u001b[39m)\n\u001b[0;32m      3\u001b[0m ax\u001b[38;5;241m.\u001b[39mplot(noise_strengths, noisy_overlaps, \u001b[38;5;124m\"\u001b[39m\u001b[38;5;124m--k\u001b[39m\u001b[38;5;124m\"\u001b[39m)\n",
      "\u001b[1;31mNameError\u001b[0m: name 'plt' is not defined"
     ]
    }
   ],
   "source": [
    "fig, ax = plt.subplots()\n",
    "ax.plot(noise_strengths, noisy_overlaps, \".k\")\n",
    "ax.plot(noise_strengths, noisy_overlaps, \"--k\")\n",
    "ax.set_title(f\"Random Gaussian Noise Effects: $N={N}$, $M={M}$, $(J/|V|)_f = {J_V_final}$, $T={T}$, $V={V}$\")\n",
    "ax.set_xlabel(\"Noise Strength [$1/|V|$]\")\n",
    "ax.set_ylabel(\"Ground State Overlap\")"
   ]
  },
  {
   "cell_type": "code",
   "execution_count": null,
   "metadata": {},
   "outputs": [],
   "source": []
  }
 ],
 "metadata": {
  "kernelspec": {
   "display_name": "synthetic_dim",
   "language": "python",
   "name": "python3"
  },
  "language_info": {
   "codemirror_mode": {
    "name": "ipython",
    "version": 3
   },
   "file_extension": ".py",
   "mimetype": "text/x-python",
   "name": "python",
   "nbconvert_exporter": "python",
   "pygments_lexer": "ipython3",
   "version": "3.8.19"
  }
 },
 "nbformat": 4,
 "nbformat_minor": 2
}
