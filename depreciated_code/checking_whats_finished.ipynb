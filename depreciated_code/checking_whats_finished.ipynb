{
 "cells": [
  {
   "cell_type": "code",
   "execution_count": 1,
   "metadata": {},
   "outputs": [],
   "source": [
    "import sys\n",
    "import os\n",
    "\n",
    "parent_dir = os.path.abspath(os.path.join(os.getcwd(), os.pardir))\n",
    "sys.path.append(parent_dir)\n",
    "\n",
    "from synth_dim_model import *\n",
    "\n",
    "import numpy as np\n",
    "import matplotlib.pyplot as plt\n",
    "from matplotlib.cm import get_cmap\n",
    "import pandas as pd\n",
    "\n",
    "import warnings\n",
    "warnings.filterwarnings(\"ignore\")"
   ]
  },
  {
   "cell_type": "code",
   "execution_count": 2,
   "metadata": {},
   "outputs": [
    {
     "name": "stdout",
     "output_type": "stream",
     "text": [
      "✅ Completed tasks: 362\n",
      "❌ Missing tasks: 598\n",
      "Task status saved to c:\\Users\\Joe\\OneDrive\\Documents\\GitHub\\synthetic_dimensions\\variational_path_finding\\task_status.csv\n"
     ]
    }
   ],
   "source": [
    "import os\n",
    "import pandas as pd\n",
    "\n",
    "# Define script directory and data folder\n",
    "script_dir = os.getcwd()\n",
    "data_folder_path = os.path.join(script_dir, \"optimization_results\")\n",
    "\n",
    "# List to store results\n",
    "results = []\n",
    "completed_count = 0\n",
    "missing_count = 0\n",
    "\n",
    "# Iterate over all parameter combinations\n",
    "for J_V_final in [0, 0.5, 2]:\n",
    "    for N in [2, 3, 4, 5]:\n",
    "        for M in [2, 3, 4, 5]:\n",
    "            for V in [-1, 1]:\n",
    "                for T in range(1, 11):\n",
    "                    \n",
    "                    csv_filename = f\"N={N}_M={M}_V={V}_JVfinal={J_V_final}_T={T}.csv\"\n",
    "                    csv_path = os.path.join(data_folder_path, csv_filename)\n",
    "\n",
    "                    # Check if file exists\n",
    "                    if os.path.exists(csv_path):\n",
    "                        status = \"Completed\"\n",
    "                        completed_count += 1\n",
    "                    else:\n",
    "                        status = \"Missing\"\n",
    "                        missing_count += 1\n",
    "\n",
    "                    # Store the result\n",
    "                    results.append([N, M, V, J_V_final, T, status])\n",
    "\n",
    "# Convert results to a DataFrame\n",
    "df = pd.DataFrame(results, columns=[\"N\", \"M\", \"V\", \"J/V_final\", \"T\", \"Status\"])\n",
    "\n",
    "# Save to CSV\n",
    "summary_csv_path = os.path.join(script_dir, \"task_status.csv\")\n",
    "df.to_csv(summary_csv_path, index=False)\n",
    "\n",
    "# Print summary\n",
    "print(f\"✅ Completed tasks: {completed_count}\")\n",
    "print(f\"❌ Missing tasks: {missing_count}\")\n",
    "print(f\"Task status saved to {summary_csv_path}\")\n"
   ]
  },
  {
   "cell_type": "code",
   "execution_count": null,
   "metadata": {},
   "outputs": [],
   "source": []
  }
 ],
 "metadata": {
  "kernelspec": {
   "display_name": "synthetic_dim",
   "language": "python",
   "name": "python3"
  },
  "language_info": {
   "codemirror_mode": {
    "name": "ipython",
    "version": 3
   },
   "file_extension": ".py",
   "mimetype": "text/x-python",
   "name": "python",
   "nbconvert_exporter": "python",
   "pygments_lexer": "ipython3",
   "version": "3.12.4"
  }
 },
 "nbformat": 4,
 "nbformat_minor": 2
}
