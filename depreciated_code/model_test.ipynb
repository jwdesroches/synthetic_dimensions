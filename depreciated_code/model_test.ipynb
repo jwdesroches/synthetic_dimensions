{
 "cells": [
  {
   "cell_type": "code",
   "execution_count": 20,
   "metadata": {},
   "outputs": [],
   "source": [
    "import sys\n",
    "import os\n",
    "sys.path.append(os.path.abspath(os.path.join(os.getcwd(), os.pardir)))\n",
    "from synth_dim_model import *\n",
    "import matplotlib.pyplot as plt\n",
    "import numpy as np\n",
    "from matplotlib.cm import get_cmap"
   ]
  },
  {
   "cell_type": "code",
   "execution_count": 21,
   "metadata": {},
   "outputs": [
    {
     "name": "stderr",
     "output_type": "stream",
     "text": [
      "C:\\Users\\jwdes\\AppData\\Local\\Temp\\ipykernel_40516\\1385209342.py:15: MatplotlibDeprecationWarning: The get_cmap function was deprecated in Matplotlib 3.7 and will be removed two minor releases later. Use ``matplotlib.colormaps[name]`` or ``matplotlib.colormaps.get_cmap(obj)`` instead.\n",
      "  cmap = get_cmap(\"gist_rainbow\", n_excited_states+1)\n"
     ]
    },
    {
     "ename": "KeyboardInterrupt",
     "evalue": "",
     "output_type": "error",
     "traceback": [
      "\u001b[1;31m---------------------------------------------------------------------------\u001b[0m",
      "\u001b[1;31mKeyboardInterrupt\u001b[0m                         Traceback (most recent call last)",
      "Cell \u001b[1;32mIn[21], line 20\u001b[0m\n\u001b[0;32m     18\u001b[0m J \u001b[38;5;241m=\u001b[39m J_V_ratio \u001b[38;5;241m*\u001b[39m V\n\u001b[0;32m     19\u001b[0m H \u001b[38;5;241m=\u001b[39m construct_hamiltonian(N, M, J, V)\n\u001b[1;32m---> 20\u001b[0m eigenvalues, eigenvectors \u001b[38;5;241m=\u001b[39m \u001b[43mexact_diagonalize\u001b[49m\u001b[43m(\u001b[49m\u001b[43mH\u001b[49m\u001b[43m)\u001b[49m\n\u001b[0;32m     22\u001b[0m \u001b[38;5;28;01mfor\u001b[39;00m j \u001b[38;5;129;01min\u001b[39;00m \u001b[38;5;28mrange\u001b[39m(n_excited_states \u001b[38;5;241m+\u001b[39m \u001b[38;5;241m1\u001b[39m):\n\u001b[0;32m     23\u001b[0m     var_name \u001b[38;5;241m=\u001b[39m \u001b[38;5;124mf\u001b[39m\u001b[38;5;124m\"\u001b[39m\u001b[38;5;124mE_\u001b[39m\u001b[38;5;132;01m{\u001b[39;00mj\u001b[38;5;132;01m}\u001b[39;00m\u001b[38;5;124m\"\u001b[39m\n",
      "File \u001b[1;32mc:\\Users\\jwdes\\python\\synthetic_dimensions\\synth_dim_model.py:269\u001b[0m, in \u001b[0;36mexact_diagonalize\u001b[1;34m(H, use_sparse, k, verbose, check_reconstruction)\u001b[0m\n\u001b[0;32m    266\u001b[0m     \u001b[38;5;28;01mreturn\u001b[39;00m eigenvalues, [eigenvectors[:, i] \u001b[38;5;28;01mfor\u001b[39;00m i \u001b[38;5;129;01min\u001b[39;00m \u001b[38;5;28mrange\u001b[39m(k)]\n\u001b[0;32m    268\u001b[0m \u001b[38;5;28;01melse\u001b[39;00m:\n\u001b[1;32m--> 269\u001b[0m     eigenvalues, eigenvectors \u001b[38;5;241m=\u001b[39m \u001b[43mnp\u001b[49m\u001b[38;5;241;43m.\u001b[39;49m\u001b[43mlinalg\u001b[49m\u001b[38;5;241;43m.\u001b[39;49m\u001b[43meigh\u001b[49m\u001b[43m(\u001b[49m\u001b[43mH\u001b[49m\u001b[43m)\u001b[49m\n\u001b[0;32m    271\u001b[0m     \u001b[38;5;28;01mif\u001b[39;00m verbose:\n\u001b[0;32m    272\u001b[0m         \u001b[38;5;28mprint\u001b[39m(\u001b[38;5;124m\"\u001b[39m\u001b[38;5;124mEigenvalues:\u001b[39m\u001b[38;5;130;01m\\n\u001b[39;00m\u001b[38;5;124m\"\u001b[39m, eigenvalues)\n",
      "File \u001b[1;32m<__array_function__ internals>:200\u001b[0m, in \u001b[0;36meigh\u001b[1;34m(*args, **kwargs)\u001b[0m\n",
      "File \u001b[1;32mc:\\Users\\jwdes\\anaconda3\\envs\\synthetic_dim\\lib\\site-packages\\numpy\\linalg\\linalg.py:1451\u001b[0m, in \u001b[0;36meigh\u001b[1;34m(a, UPLO)\u001b[0m\n\u001b[0;32m   1448\u001b[0m     gufunc \u001b[38;5;241m=\u001b[39m _umath_linalg\u001b[38;5;241m.\u001b[39meigh_up\n\u001b[0;32m   1450\u001b[0m signature \u001b[38;5;241m=\u001b[39m \u001b[38;5;124m'\u001b[39m\u001b[38;5;124mD->dD\u001b[39m\u001b[38;5;124m'\u001b[39m \u001b[38;5;28;01mif\u001b[39;00m isComplexType(t) \u001b[38;5;28;01melse\u001b[39;00m \u001b[38;5;124m'\u001b[39m\u001b[38;5;124md->dd\u001b[39m\u001b[38;5;124m'\u001b[39m\n\u001b[1;32m-> 1451\u001b[0m w, vt \u001b[38;5;241m=\u001b[39m \u001b[43mgufunc\u001b[49m\u001b[43m(\u001b[49m\u001b[43ma\u001b[49m\u001b[43m,\u001b[49m\u001b[43m \u001b[49m\u001b[43msignature\u001b[49m\u001b[38;5;241;43m=\u001b[39;49m\u001b[43msignature\u001b[49m\u001b[43m,\u001b[49m\u001b[43m \u001b[49m\u001b[43mextobj\u001b[49m\u001b[38;5;241;43m=\u001b[39;49m\u001b[43mextobj\u001b[49m\u001b[43m)\u001b[49m\n\u001b[0;32m   1452\u001b[0m w \u001b[38;5;241m=\u001b[39m w\u001b[38;5;241m.\u001b[39mastype(_realType(result_t), copy\u001b[38;5;241m=\u001b[39m\u001b[38;5;28;01mFalse\u001b[39;00m)\n\u001b[0;32m   1453\u001b[0m vt \u001b[38;5;241m=\u001b[39m vt\u001b[38;5;241m.\u001b[39mastype(result_t, copy\u001b[38;5;241m=\u001b[39m\u001b[38;5;28;01mFalse\u001b[39;00m)\n",
      "\u001b[1;31mKeyboardInterrupt\u001b[0m: "
     ]
    }
   ],
   "source": [
    "N = 5\n",
    "M = 5\n",
    "min_J_V_ratio = -5\n",
    "max_J_V_ratio = 5\n",
    "num_points = 100\n",
    "n_excited_states = M**N-1\n",
    "include_degeneracy_plot = True\n",
    "\n",
    "V = 1\n",
    "J_V_ratios = np.linspace(min_J_V_ratio, max_J_V_ratio, num_points)\n",
    "\n",
    "energies = {f\"E_{i}\": [] for i in range(n_excited_states + 1)}\n",
    "states = {f\"$\\psi_{i}\": [] for i in range(n_excited_states + 1)}\n",
    "\n",
    "cmap = get_cmap(\"gist_rainbow\", n_excited_states+1)\n",
    "\n",
    "for J_V_ratio in J_V_ratios:\n",
    "    J = J_V_ratio * V\n",
    "    H = construct_hamiltonian(N, M, J, V)\n",
    "    eigenvalues, eigenvectors = exact_diagonalize(H)\n",
    " \n",
    "    for j in range(n_excited_states + 1):\n",
    "        var_name = f\"E_{j}\"\n",
    "        state_name = f\"$\\psi_{j}\"\n",
    "        energies[var_name].append(eigenvalues[j])\n",
    "        states[state_name].append(eigenvectors[j])\n",
    "    \n",
    "eps = {f\"eps_{i}\": [E / N for E in energies[f\"E_{i}\"]] for i in range(n_excited_states + 1)}\n",
    "\n",
    "if include_degeneracy_plot:\n",
    "    fig, (ax1, ax2) = plt.subplots(2, 1, figsize=(7, 5), gridspec_kw={'height_ratios': [2.5, 1]}, sharex=True)\n",
    "else: \n",
    "    fig, ax1= plt.subplots(figsize = (7,5))\n",
    "    \n",
    "for i in range(n_excited_states + 1):\n",
    "    color = cmap(i)\n",
    "    var_name = f\"eps_{i}\"\n",
    "    ax1.plot(J_V_ratios, eps[var_name], '.', color = color, label=f\"$\\\\epsilon_{i}$\")\n",
    "\n",
    "#ax1.legend(loc=\"lower center\", ncols=n_excited_states + 2, fancybox=True)\n",
    "ax1.set_title(f\"{N} Real Sites and {M} Synthetic Sites\")\n",
    "ax1.set_ylabel(\"$\\\\epsilon$ [E/N]\")\n",
    "ax1.grid()\n",
    "\n",
    "if include_degeneracy_plot:\n",
    "    delta_eps = {f\"eps{i+1}-eps_{i}\": [eps[f\"eps_{i+1}\"][j] - eps[f\"eps_{i}\"][j] for j in range(len(eps[f\"eps_{i+1}\"]))] for i in range(n_excited_states)}\n",
    "\n",
    "    for i in range(n_excited_states):\n",
    "        var_name = f\"eps{i+1}-eps_{i}\"\n",
    "        color = cmap(i)\n",
    "        ax2.plot(J_V_ratios, delta_eps[var_name], '.', color = color, label=f\"$\\\\epsilon_{i+1}-\\\\epsilon_{i}$\")\n",
    "    \n",
    "    #ax2.legend(loc=\"upper center\", ncols=n_excited_states)\n",
    "    ax2.set_xlabel(\"J/V Ratio\")\n",
    "    ax2.set_ylabel(\"$\\\\Delta \\\\epsilon$ [E/N]\")\n",
    "    ax2.grid()\n",
    "else:\n",
    "    ax1.set_xlabel(\"J/V Ratio\")\n",
    "\n",
    "fig.tight_layout()\n",
    "plt.show()"
   ]
  },
  {
   "cell_type": "code",
   "execution_count": null,
   "metadata": {},
   "outputs": [
    {
     "name": "stdout",
     "output_type": "stream",
     "text": [
      "|0,0>\n",
      "[['<0,0|H|0,0>' '<0,0|H|0,1>' '<0,0|H|1,0>' '<0,0|H|1,1>']\n",
      " ['<1,0|H|0,0>' '<1,0|H|0,1>' '<1,0|H|1,0>' '<1,0|H|1,1>']\n",
      " ['<0,1|H|0,0>' '<0,1|H|0,1>' '<0,1|H|1,0>' '<0,1|H|1,1>']\n",
      " ['<1,1|H|0,0>' '<1,1|H|0,1>' '<1,1|H|1,0>' '<1,1|H|1,1>']]\n",
      "[[ 0.+0.j -5.+0.j  0.+0.j ...  0.+0.j  0.+0.j  0.+0.j]\n",
      " [-5.+0.j  0.+0.j -5.+0.j ...  0.+0.j  0.+0.j  0.+0.j]\n",
      " [ 0.+0.j -5.+0.j  0.+0.j ...  0.+0.j  0.+0.j  0.+0.j]\n",
      " ...\n",
      " [ 0.+0.j  0.+0.j  0.+0.j ...  0.+0.j -5.+0.j  0.+0.j]\n",
      " [ 0.+0.j  0.+0.j  0.+0.j ... -5.+0.j  0.+0.j -5.+0.j]\n",
      " [ 0.+0.j  0.+0.j  0.+0.j ...  0.+0.j -5.+0.j  0.+0.j]]\n"
     ]
    }
   ],
   "source": [
    "states, formatted_states = enumerate_states(N=2,M=2)\n",
    "print(formatted_states[0])\n",
    "\n",
    "print(create_H_key(formatted_states))\n",
    "print(H)"
   ]
  },
  {
   "cell_type": "code",
   "execution_count": null,
   "metadata": {},
   "outputs": [],
   "source": []
  }
 ],
 "metadata": {
  "kernelspec": {
   "display_name": "synthetic_dim",
   "language": "python",
   "name": "python3"
  },
  "language_info": {
   "codemirror_mode": {
    "name": "ipython",
    "version": 3
   },
   "file_extension": ".py",
   "mimetype": "text/x-python",
   "name": "python",
   "nbconvert_exporter": "python",
   "pygments_lexer": "ipython3",
   "version": "3.8.19"
  }
 },
 "nbformat": 4,
 "nbformat_minor": 2
}
