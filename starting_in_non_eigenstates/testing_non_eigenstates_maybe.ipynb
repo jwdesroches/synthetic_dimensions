{
 "cells": [
  {
   "cell_type": "code",
   "execution_count": 1,
   "id": "7411adda",
   "metadata": {},
   "outputs": [
    {
     "name": "stderr",
     "output_type": "stream",
     "text": [
      "c:\\Users\\Joe\\OneDrive\\Documents\\GitHub\\synthetic_dimensions\\synth_dim_model.py:567: SyntaxWarning: invalid escape sequence '\\e'\n",
      "  ax.set_ylabel(\"Scaled Energy [$E/N|V| = \\epsilon/|V|$]\")\n",
      "c:\\Users\\Joe\\OneDrive\\Documents\\GitHub\\synthetic_dimensions\\synth_dim_model.py:579: SyntaxWarning: invalid escape sequence '\\R'\n",
      "  ax1.set_ylabel(\"$\\Re$ Component\")\n",
      "c:\\Users\\Joe\\OneDrive\\Documents\\GitHub\\synthetic_dimensions\\synth_dim_model.py:580: SyntaxWarning: invalid escape sequence '\\I'\n",
      "  ax2.set_ylabel(\"$\\Im$ Component\")\n",
      "c:\\Users\\Joe\\OneDrive\\Documents\\GitHub\\synthetic_dimensions\\synth_dim_model.py:592: SyntaxWarning: invalid escape sequence '\\s'\n",
      "  ax.set_title(f\"Time Evolved $\\sigma$: $N={N}$, $M={M}$, {sign_V_string}, $(J/|V|)_f = {J_V_ratios[-1]}$\")\n",
      "c:\\Users\\Joe\\OneDrive\\Documents\\GitHub\\synthetic_dimensions\\synth_dim_model.py:593: SyntaxWarning: invalid escape sequence '\\s'\n",
      "  ax.set_ylabel(\"$\\sigma^{01}/M$\")\n"
     ]
    },
    {
     "ename": "SyntaxError",
     "evalue": "invalid syntax (synth_dim_model.py, line 652)",
     "output_type": "error",
     "traceback": [
      "Traceback \u001b[1;36m(most recent call last)\u001b[0m:\n",
      "\u001b[0m  File \u001b[0;32mc:\\Users\\Joe\\anaconda3\\envs\\synthetic_dim\\Lib\\site-packages\\IPython\\core\\interactiveshell.py:3577\u001b[0m in \u001b[0;35mrun_code\u001b[0m\n    exec(code_obj, self.user_global_ns, self.user_ns)\u001b[0m\n",
      "\u001b[1;36m  Cell \u001b[1;32mIn[1], line 7\u001b[1;36m\n\u001b[1;33m    from synth_dim_model import *\u001b[1;36m\n",
      "\u001b[1;36m  File \u001b[1;32mc:\\Users\\Joe\\OneDrive\\Documents\\GitHub\\synthetic_dimensions\\synth_dim_model.py:652\u001b[1;36m\u001b[0m\n\u001b[1;33m    t_initial_guess = T * (np.linspace(0, 1, n_points)[1:-1] ** =alpha)\u001b[0m\n\u001b[1;37m                                                                ^\u001b[0m\n\u001b[1;31mSyntaxError\u001b[0m\u001b[1;31m:\u001b[0m invalid syntax\n"
     ]
    }
   ],
   "source": [
    "import sys\n",
    "import os\n",
    "\n",
    "parent_dir = os.path.abspath(os.path.join(os.getcwd(), os.pardir))\n",
    "sys.path.append(parent_dir)\n",
    "\n",
    "from synth_dim_model import *\n",
    "\n",
    "import numpy as np\n",
    "import matplotlib.pyplot as plt\n",
    "from matplotlib.cm import get_cmap\n",
    "import pandas as pd\n",
    "\n",
    "import warnings\n",
    "warnings.filterwarnings(\"ignore\")"
   ]
  },
  {
   "cell_type": "code",
   "execution_count": null,
   "id": "59f38f93",
   "metadata": {},
   "outputs": [],
   "source": [
    "N = 3\n",
    "M = 5\n",
    "T = 10\n",
    "V = 1\n",
    "J_V_final = 0.5\n",
    "\n",
    "dt = 0.05\n",
    "\n",
    "J_V_init = 0.1\n",
    "\n",
    "mu_V_init = 10\n",
    "mu_V_final = 0\n",
    "\n",
    "num_control_points = 5\n",
    "\n",
    "# Run optimization\n",
    "results = create_optimal_piecewise_linear_paths(N, M, T, dt, V, J_V_init, J_V_final, mu_V_init, mu_V_final, num_control_points, alpha = 2, chemical_potential_loc = 0)\n",
    "(times_dense, J_V_path, mu_V_path, obj_value, opt_params, t_control_opt, J_control_opt, mu_control_opt) = results\n",
    "\n",
    "hamiltonians = []\n",
    "for i, t in enumerate(times_dense):\n",
    "    ham = construct_rescaled_hamiltonian(N, M, V, mu_V_ratio = mu_V_path[i], J_V_ratio = J_V_path[i])\n",
    "    hamiltonians.append(ham)\n",
    "\n",
    "final_results = simulate_hamiltonian_time_evolution(hamiltonians, times_dense)\n",
    "energies, time_evolved_wavefunctions, state_probabilities, state_overlaps, true_energies, ground_state_manifold_overlaps = final_results\n",
    "\n",
    "print(f\"GROUND_STATE_OVERLAP: {ground_state_manifold_overlaps[-1]}\")\n",
    "print(f\"ENERGY_DIFFERENCE: {energies[-1] - true_energies[-1,0]}\")"
   ]
  },
  {
   "cell_type": "code",
   "execution_count": null,
   "id": "57f565d4",
   "metadata": {},
   "outputs": [],
   "source": [
    "N = 3\n",
    "M = 5\n",
    "T = 10\n",
    "V = 1\n",
    "J_V_final = 0.5\n",
    "\n",
    "dt = 0.05\n",
    "\n",
    "J_V_init = 0.1\n",
    "\n",
    "mu_V_init = 10\n",
    "mu_V_final = 0\n",
    "\n",
    "num_control_points = 5\n",
    "\n",
    "# Run optimization\n",
    "results = create_optimal_piecewise_linear_paths(N, M, T, dt, V, J_V_init, J_V_final, mu_V_init, mu_V_final, num_control_points, alpha = 2, chemical_potential_loc = 1)\n",
    "(times_dense, J_V_path, mu_V_path, obj_value, opt_params, t_control_opt, J_control_opt, mu_control_opt) = results\n",
    "\n",
    "hamiltonians = []\n",
    "for i, t in enumerate(times_dense):\n",
    "    ham = construct_rescaled_hamiltonian(N, M, V, mu_V_ratio = mu_V_path[i], J_V_ratio = J_V_path[i])\n",
    "    hamiltonians.append(ham)\n",
    "\n",
    "final_results = simulate_hamiltonian_time_evolution(hamiltonians, times_dense)\n",
    "energies, time_evolved_wavefunctions, state_probabilities, state_overlaps, true_energies, ground_state_manifold_overlaps = final_results\n",
    "\n",
    "print(f\"GROUND_STATE_OVERLAP: {ground_state_manifold_overlaps[-1]}\")\n",
    "print(f\"ENERGY_DIFFERENCE: {energies[-1] - true_energies[-1,0]}\")"
   ]
  },
  {
   "cell_type": "code",
   "execution_count": null,
   "id": "bc6264bf",
   "metadata": {},
   "outputs": [],
   "source": []
  }
 ],
 "metadata": {
  "kernelspec": {
   "display_name": "synthetic_dim",
   "language": "python",
   "name": "python3"
  },
  "language_info": {
   "codemirror_mode": {
    "name": "ipython",
    "version": 3
   },
   "file_extension": ".py",
   "mimetype": "text/x-python",
   "name": "python",
   "nbconvert_exporter": "python",
   "pygments_lexer": "ipython3",
   "version": "3.12.4"
  }
 },
 "nbformat": 4,
 "nbformat_minor": 5
}
