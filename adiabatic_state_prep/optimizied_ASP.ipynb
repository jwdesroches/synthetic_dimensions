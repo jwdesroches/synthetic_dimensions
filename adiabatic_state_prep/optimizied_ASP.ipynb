{
 "cells": [
  {
   "cell_type": "code",
   "execution_count": 1,
   "id": "93793a5c",
   "metadata": {},
   "outputs": [
    {
     "data": {
      "text/plain": [
       "<Token var=<ContextVar name='format_options' default={'edgeitems': 3, 'threshold': 1000, 'floatmode': 'maxprec', 'precision': 8, 'suppress': False, 'linewidth': 75, 'nanstr': 'nan', 'infstr': 'inf', 'sign': '-', 'formatter': None, 'legacy': 9223372036854775807, 'override_repr': None} at 0x000002AFC67BD210> at 0x000002AFDED17500>"
      ]
     },
     "execution_count": 1,
     "metadata": {},
     "output_type": "execute_result"
    }
   ],
   "source": [
    "import sys\n",
    "import os\n",
    "\n",
    "parent_dir = os.path.abspath(os.path.join(os.getcwd(), os.pardir))\n",
    "sys.path.append(parent_dir)\n",
    "\n",
    "data_folder_path = os.path.abspath(os.path.join(os.getcwd(), os.pardir, \"data_folder\"))\n",
    "sys.path.append(data_folder_path) \n",
    "\n",
    "from synth_dim_model import *\n",
    "\n",
    "import numpy as np\n",
    "import matplotlib.pyplot as plt\n",
    "\n",
    "import warnings\n",
    "warnings.filterwarnings(\"ignore\")\n",
    "\n",
    "import concurrent.futures\n",
    "plt.rcParams.update({'font.size': 12})\n",
    "\n",
    "np.set_printoptions(precision=5, suppress=True, linewidth=100)\n"
   ]
  },
  {
   "cell_type": "code",
   "execution_count": 23,
   "id": "3cc245d7",
   "metadata": {},
   "outputs": [
    {
     "name": "stdout",
     "output_type": "stream",
     "text": [
      "N: 3\n",
      "M: 2\n",
      "V: 1\n",
      "J_V_final: 2\n",
      "T: 3\n",
      "\n",
      "ROUGH PASS STARTING\n",
      "Optimization terminated successfully    (Exit mode 0)\n",
      "            Current function value: 0.016578321021918273\n",
      "            Iterations: 130\n",
      "            Function evaluations: 4112\n",
      "            Gradient evaluations: 130\n",
      "Success: True\n",
      "ROUGH PASS COMPLETED\n",
      "\n",
      "REFINED PASS STARTING\n",
      "Optimization terminated successfully    (Exit mode 0)\n",
      "            Current function value: 0.014610458419000638\n",
      "            Iterations: 116\n",
      "            Function evaluations: 3661\n",
      "            Gradient evaluations: 116\n",
      "Success: True\n",
      "REFINED PASS COMPLETED\n",
      "\n",
      "GROUND_STATE_OVERLAP: 0.988327\n",
      "ENERGY_DIFFERENCE: 0.025927\n",
      "\n",
      "OPTIMAL_J_VALUES:\n",
      " [0.      0.1075  0.44569 0.67938 0.91979 1.1705  1.24475 1.61031 1.93706 1.94043 1.99527 2.     ]\n",
      "\n",
      "OPTIMAL_MU_VALUES:\n",
      " [10.       9.57308  8.22908  7.29824  6.33909  5.33926  5.02688  3.3446   1.76757  1.72581  0.2903\n",
      "  0.     ]\n",
      "\n",
      "OPTIMAL_TIMES:\n",
      " [0.      0.001   0.002   0.00323 0.05805 0.07828 0.34348 0.45255 0.5     1.00755 1.01263 3.     ]\n"
     ]
    }
   ],
   "source": [
    "# -------------------------------------------------------------------------------------------------------------------------------------------------------------------------\n",
    "# PARAMETERS TO CHANGE\n",
    "\n",
    "N = 3\n",
    "M = 2\n",
    "V = 1\n",
    "J_V_final = 2\n",
    "T = 3\n",
    "\n",
    "# -------------------------------------------------------------------------------------------------------------------------------------------------------------------------\n",
    "# UNCHANGED PARAMETERS\n",
    "\n",
    "dt = 0.1\n",
    "J_V_init = 0\n",
    "mu_V_init = 10\n",
    "mu_V_final = 0\n",
    "num_control_points = 12\n",
    "\n",
    "print(f\"N: {N}\")\n",
    "print(f\"M: {M}\")\n",
    "print(f\"V: {V}\")\n",
    "print(f\"J_V_final: {J_V_final}\")\n",
    "print(f\"T: {T}\")\n",
    "    \n",
    "# -------------------------------------------------------------------------------------------------------------------------------------------------------------------------\n",
    "# FIRST PASS\n",
    "\n",
    "print(\"\\nROUGH PASS STARTING\")\n",
    "T_start = 1\n",
    "results = create_optimal_piecewise_linear_paths(N, M, T_start, dt, V, J_V_init, J_V_final, mu_V_init, mu_V_final, num_control_points)\n",
    "    \n",
    "times_dense, J_V_path, mu_V_path, obj_value, opt_params, t_control_opt, J_control_opt, mu_control_opt = results\n",
    "    \n",
    "hamiltonians = [construct_rescaled_hamiltonian(N, M, V, mu_V_ratio=mu_V_path[i], J_V_ratio=J_V_path[i]) for i in range(len(times_dense))]\n",
    "final_results = simulate_hamiltonian_time_evolution(hamiltonians, times_dense)\n",
    "energies, time_evolved_wavefunctions, state_probabilities, state_overlaps, true_energies, ground_state_manifold_overlaps = final_results\n",
    "gso = ground_state_manifold_overlaps[-1]\n",
    "ed = energies[-1] - true_energies[-1,0]\n",
    "print(\"ROUGH PASS COMPLETED\")\n",
    "# -------------------------------------------------------------------------------------------------------------------------------------------------------------------------\n",
    "# SECOND PASS\n",
    "\n",
    "print(\"\\nREFINED PASS STARTING\")\n",
    "results = create_optimal_piecewise_linear_paths(N, M, T, dt, V, J_V_init, J_V_final, mu_V_init, mu_V_final, num_control_points, initial_guess = opt_params)\n",
    "    \n",
    "times_dense, J_V_path, mu_V_path, obj_value, opt_params, t_control_opt, J_control_opt, mu_control_opt = results\n",
    "    \n",
    "hamiltonians = [construct_rescaled_hamiltonian(N, M, V, mu_V_ratio=mu_V_path[i], J_V_ratio=J_V_path[i]) for i in range(len(times_dense))]\n",
    "final_results = simulate_hamiltonian_time_evolution(hamiltonians, times_dense)\n",
    "energies, time_evolved_wavefunctions, state_probabilities, state_overlaps, true_energies, ground_state_manifold_overlaps = final_results\n",
    "gso = ground_state_manifold_overlaps[-1]\n",
    "ed = energies[-1] - true_energies[-1,0]\n",
    "print(\"REFINED PASS COMPLETED\\n\")\n",
    "    \n",
    "print(f\"GROUND_STATE_OVERLAP: {gso:.6f}\")\n",
    "print(f\"ENERGY_DIFFERENCE: {ed:.6f}\")\n",
    "\n",
    "n_int = num_control_points - 2\n",
    "J_int_opt = opt_params[:n_int]\n",
    "mu_int_opt = opt_params[n_int:2*n_int]\n",
    "t_int_opt = opt_params[2*n_int:3*n_int]\n",
    "\n",
    "J_control_opt = np.concatenate(([J_V_init], J_int_opt, [J_V_final]))\n",
    "mu_control_opt = np.concatenate(([mu_V_init], mu_int_opt, [mu_V_final]))\n",
    "t_control_opt = np.concatenate(([0.0], t_int_opt, [T]))\n",
    "\n",
    "print(\"\\nOPTIMAL_J_VALUES:\\n\", np.array(J_control_opt))\n",
    "print(\"\\nOPTIMAL_MU_VALUES:\\n\", np.array(mu_control_opt))\n",
    "print(\"\\nOPTIMAL_TIMES:\\n\", np.array(t_control_opt))\n"
   ]
  },
  {
   "cell_type": "code",
   "execution_count": 24,
   "id": "70b20262",
   "metadata": {},
   "outputs": [
    {
     "data": {
      "text/plain": [
       "(0.0, 1.0)"
      ]
     },
     "execution_count": 24,
     "metadata": {},
     "output_type": "execute_result"
    },
    {
     "data": {
      "image/png": "[encoded data removed]",
      "text/plain": [
       "<Figure size 640x480 with 1 Axes>"
      ]
     },
     "metadata": {},
     "output_type": "display_data"
    }
   ],
   "source": [
    "fig, ax = plt.subplots()\n",
    "\n",
    "for i in range(8):\n",
    "    ax.plot(times_dense, state_probabilities[:,i])\n",
    "ax.set_ylim(0,1)"
   ]
  },
  {
   "cell_type": "code",
   "execution_count": 25,
   "id": "4850e0ea",
   "metadata": {},
   "outputs": [
    {
     "data": {
      "text/plain": [
       "(0.0, 3.0)"
      ]
     },
     "execution_count": 25,
     "metadata": {},
     "output_type": "execute_result"
    },
    {
     "data": {
      "image/png": "[encoded data removed]",
      "text/plain": [
       "<Figure size 640x480 with 1 Axes>"
      ]
     },
     "metadata": {},
     "output_type": "display_data"
    }
   ],
   "source": [
    "fig, ax = plt.subplots()\n",
    "ax.plot(J_control_opt, mu_control_opt, marker = \"o\", color = \"b\")\n",
    "ax.set_ylim(0,10)\n",
    "ax.set_xlim(0,3)"
   ]
  },
  {
   "cell_type": "code",
   "execution_count": 3,
   "id": "47693934",
   "metadata": {},
   "outputs": [
    {
     "data": {
      "text/plain": [
       "'N = 3\\nM = 2\\nV = 1\\ndt = 0.1\\n\\nJ_V_init = 0.1\\nJ_V_final = 0.5\\nmu_V_init = 10\\nmu_V_final = 0\\n\\nnum_control_points = 12\\n\\nTs = np.linspace(0.1,10,25)\\nground_state_overlaps = []\\nenergy_differences = []\\n\\nopt_params = None\\n\\nfor T in Ts:\\n    opt_params = None\\n    \\n    print(f\"\\nOptimizing for T = {T}\")\\n    \\n    results = create_optimal_piecewise_linear_paths(\\n        N, M, T, dt, V,\\n        J_V_init, J_V_final,\\n        mu_V_init, mu_V_final,\\n        num_control_points,\\n        initial_guess=opt_params\\n    )\\n    \\n    times_dense, J_V_path, mu_V_path, obj_value, opt_params, t_control_opt, J_control_opt, mu_control_opt = results\\n    \\n    hamiltonians = [construct_rescaled_hamiltonian(N, M, V, mu_V_ratio=mu_V_path[i], J_V_ratio=J_V_path[i]) for i in range(len(times_dense))]\\n    final_results = simulate_hamiltonian_time_evolution(hamiltonians, times_dense)\\n    energies, time_evolved_wavefunctions, state_probabilities, state_overlaps, true_energies, ground_state_manifold_overlaps = final_results\\n    gso = ground_state_manifold_overlaps[-1]\\n    ground_state_overlaps.append(gso)\\n    ed = energies[-1] - true_energies[-1,0]\\n    energy_differences.append(ed)\\n    \\n    print(f\"GROUND_STATE_OVERLAP: {gso:.6f}\")\\n    print(f\"ENERGY_DIFFERENCE: {ed:.6f}\")\\n    print()\\n    \\nprint(\"All finished:\")\\nprint(f\"Evolution Times: {Ts}\")\\nprint(f\"Ground State Overlaps = {ground_state_overlaps}\")\\nprint(f\"Energy Differences = {ground_state_overlaps}\")'"
      ]
     },
     "execution_count": 3,
     "metadata": {},
     "output_type": "execute_result"
    }
   ],
   "source": [
    "\"\"\"N = 3\n",
    "M = 2\n",
    "V = 1\n",
    "dt = 0.1\n",
    "\n",
    "J_V_init = 0.1\n",
    "J_V_final = 0.5\n",
    "mu_V_init = 10\n",
    "mu_V_final = 0\n",
    "\n",
    "num_control_points = 12\n",
    "\n",
    "Ts = np.linspace(0.1,10,25)\n",
    "ground_state_overlaps = []\n",
    "energy_differences = []\n",
    "\n",
    "opt_params = None\n",
    "\n",
    "for T in Ts:\n",
    "    opt_params = None\n",
    "    \n",
    "    print(f\"\\nOptimizing for T = {T}\")\n",
    "    \n",
    "    results = create_optimal_piecewise_linear_paths(\n",
    "        N, M, T, dt, V,\n",
    "        J_V_init, J_V_final,\n",
    "        mu_V_init, mu_V_final,\n",
    "        num_control_points,\n",
    "        initial_guess=opt_params\n",
    "    )\n",
    "    \n",
    "    times_dense, J_V_path, mu_V_path, obj_value, opt_params, t_control_opt, J_control_opt, mu_control_opt = results\n",
    "    \n",
    "    hamiltonians = [construct_rescaled_hamiltonian(N, M, V, mu_V_ratio=mu_V_path[i], J_V_ratio=J_V_path[i]) for i in range(len(times_dense))]\n",
    "    final_results = simulate_hamiltonian_time_evolution(hamiltonians, times_dense)\n",
    "    energies, time_evolved_wavefunctions, state_probabilities, state_overlaps, true_energies, ground_state_manifold_overlaps = final_results\n",
    "    gso = ground_state_manifold_overlaps[-1]\n",
    "    ground_state_overlaps.append(gso)\n",
    "    ed = energies[-1] - true_energies[-1,0]\n",
    "    energy_differences.append(ed)\n",
    "    \n",
    "    print(f\"GROUND_STATE_OVERLAP: {gso:.6f}\")\n",
    "    print(f\"ENERGY_DIFFERENCE: {ed:.6f}\")\n",
    "    print()\n",
    "    \n",
    "print(\"All finished:\")\n",
    "print(f\"Evolution Times: {Ts}\")\n",
    "print(f\"Ground State Overlaps = {ground_state_overlaps}\")\n",
    "print(f\"Energy Differences = {ground_state_overlaps}\")\"\"\""
   ]
  },
  {
   "cell_type": "code",
   "execution_count": 4,
   "id": "db3e81d3",
   "metadata": {},
   "outputs": [
    {
     "data": {
      "text/plain": [
       "'plt.figure(figsize=(8,5))\\nplt.plot(Ts, ground_state_overlaps, marker=\\'o\\', color = \"blue\")\\nplt.xlabel(\\'Total Evolution Time $T$\\')\\nplt.ylabel(\\'$\\\\langle \\\\psi(T) | P_D | \\\\psi(T) \\\\rangle$\\')\\nplt.title(f\\'GS Manifold Overlap vs Total Time: $N = {N}$, $M = {M}$, $V = {V}$, $(J/|V|)_f = {J_V_final}$\\')\\nplt.grid(True)\\nplt.tight_layout()\\nplt.show()\\n\\nplt.figure(figsize=(8,5))\\nplt.plot(Ts, energy_differences, marker=\\'o\\', color = \"red\")\\nplt.xlabel(\\'Total Evolution Time $T$\\')\\nplt.ylabel(\\'$E(T) - E_0$\\')\\nplt.title(f\\'Energy Difference vs Total Time: $N = {N}$, $M = {M}$, $V = {V}$, $(J/|V|)_f = {J_V_final}$\\')\\nplt.grid(True)\\nplt.tight_layout()\\nplt.show()'"
      ]
     },
     "execution_count": 4,
     "metadata": {},
     "output_type": "execute_result"
    }
   ],
   "source": [
    "\"\"\"plt.figure(figsize=(8,5))\n",
    "plt.plot(Ts, ground_state_overlaps, marker='o', color = \"blue\")\n",
    "plt.xlabel('Total Evolution Time $T$')\n",
    "plt.ylabel('$\\langle \\psi(T) | P_D | \\psi(T) \\\\rangle$')\n",
    "plt.title(f'GS Manifold Overlap vs Total Time: $N = {N}$, $M = {M}$, $V = {V}$, $(J/|V|)_f = {J_V_final}$')\n",
    "plt.grid(True)\n",
    "plt.tight_layout()\n",
    "plt.show()\n",
    "\n",
    "plt.figure(figsize=(8,5))\n",
    "plt.plot(Ts, energy_differences, marker='o', color = \"red\")\n",
    "plt.xlabel('Total Evolution Time $T$')\n",
    "plt.ylabel('$E(T) - E_0$')\n",
    "plt.title(f'Energy Difference vs Total Time: $N = {N}$, $M = {M}$, $V = {V}$, $(J/|V|)_f = {J_V_final}$')\n",
    "plt.grid(True)\n",
    "plt.tight_layout()\n",
    "plt.show()\"\"\""
   ]
  }
 ],
 "metadata": {
  "kernelspec": {
   "display_name": "synthetic_dim",
   "language": "python",
   "name": "python3"
  },
  "language_info": {
   "codemirror_mode": {
    "name": "ipython",
    "version": 3
   },
   "file_extension": ".py",
   "mimetype": "text/x-python",
   "name": "python",
   "nbconvert_exporter": "python",
   "pygments_lexer": "ipython3",
   "version": "3.12.4"
  }
 },
 "nbformat": 4,
 "nbformat_minor": 5
}
