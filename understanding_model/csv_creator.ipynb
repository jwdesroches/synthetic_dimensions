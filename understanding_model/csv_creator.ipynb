{
 "cells": [
  {
   "cell_type": "code",
   "execution_count": null,
   "metadata": {
    "vscode": {
     "languageId": "plaintext"
    }
   },
   "outputs": [],
   "source": [
    "import sys\n",
    "import os\n",
    "sys.path.append(os.path.abspath(os.path.join(os.getcwd(), os.pardir)))\n",
    "from synth_dim_model import *\n",
    "\n",
    "import numpy as np\n",
    "import matplotlib.pyplot as plt\n",
    "from matplotlib.cm import get_cmap\n",
    "import pandas as pd\n",
    "\n",
    "import warnings\n",
    "warnings.filterwarnings(\"ignore\")"
   ]
  },
  {
   "cell_type": "code",
   "execution_count": null,
   "metadata": {
    "vscode": {
     "languageId": "plaintext"
    }
   },
   "outputs": [],
   "source": [
    "import numpy as np\n",
    "import matplotlib.pyplot as plt\n",
    "\n",
    "# --- PARAMETERS ---\n",
    "N = 3\n",
    "M = 2\n",
    "min_V_J_ratio = -10\n",
    "max_V_J_ratio = 10\n",
    "max_mu_V_ratio = 10\n",
    "resolution = 500\n",
    "\n",
    "mu_V_ratios = np.linspace(0, max_mu_V_ratio, resolution)\n",
    "J_V_ratios = np.linspace(min_V_J_ratio, max_V_J_ratio, resolution)\n",
    "# Create a grid for the two parameters.\n",
    "mu_V_ratio_grid, J_V_ratio_grid = np.meshgrid(mu_V_ratios, J_V_ratios)\n",
    "\n",
    "# Loop over the two cases: V negative and V positive.\n",
    "for V in [-1, 1]:\n",
    "    # Allocate arrays to hold the computed data.\n",
    "    sigma_grid = np.zeros_like(mu_V_ratio_grid)\n",
    "    energy_gap_over_V_grid = np.zeros_like(mu_V_ratio_grid)\n",
    "    \n",
    "    # (Assuming your function returns a tuple (states, …))\n",
    "    states, _ = enumerate_states(N, M)\n",
    "    \n",
    "    # Loop over the parameter grid (note: the meshgrid is built so that the first index corresponds to J_V_ratios).\n",
    "    for i, mu_V_ratio in enumerate(mu_V_ratios):\n",
    "        for j, J_V_ratio in enumerate(J_V_ratios):\n",
    "            H = construct_rescaled_hamiltonian(N, M, V, mu_V_ratio, J_V_ratio)\n",
    "            eigenvalues, eigenvectors = exact_diagonalize(H)\n",
    "            energy_gap = eigenvalues[1] - eigenvalues[0]\n",
    "            energy_gap_over_V_grid[j, i] = energy_gap\n",
    "            sigma_grid[j, i] = sigma_ij(0, 1, eigenvectors[0], states, N, M) / M\n",
    "\n",
    "    # Determine a string to indicate the sign of V for naming the files.\n",
    "    sign = \"positive\" if V > 0 else \"negative\"\n",
    "    \n",
    "    # --- SAVE ENERGY GAP DATA ---\n",
    "    # For each grid point we store: mu/|V|, J/|V|, energy_gap.\n",
    "    data_energy = np.column_stack((\n",
    "        mu_V_ratio_grid.ravel(), \n",
    "        J_V_ratio_grid.ravel(), \n",
    "        energy_gap_over_V_grid.ravel()\n",
    "    ))\n",
    "    energy_filename = f\"energy_gap_V_{sign}.csv\"\n",
    "    np.savetxt(\n",
    "        energy_filename,\n",
    "        data_energy,\n",
    "        delimiter=\",\",\n",
    "        header=\"mu_V_ratio,J_V_ratio,energy_gap\",\n",
    "        comments=\"\"\n",
    "    )\n",
    "    print(f\"Saved energy gap data to {energy_filename}\")\n",
    "\n",
    "    # --- SAVE SIGMA DATA ---\n",
    "    data_sigma = np.column_stack((\n",
    "        mu_V_ratio_grid.ravel(), \n",
    "        J_V_ratio_grid.ravel(), \n",
    "        sigma_grid.ravel()\n",
    "    ))\n",
    "    sigma_filename = f\"sigma_V_{sign}.csv\"\n",
    "    np.savetxt(\n",
    "        sigma_filename,\n",
    "        data_sigma,\n",
    "        delimiter=\",\",\n",
    "        header=\"mu_V_ratio,J_V_ratio,sigma\",\n",
    "        comments=\"\"\n",
    "    )\n",
    "    print(f\"Saved sigma data to {sigma_filename}\")\n",
    "\n",
    "# (Optional) You may also display a sample plot:\n",
    "# Note that in your original code the energy gap was plotted as log(1/energy_gap).\n",
    "# Here we do not plot immediately but you could do so if desired.\n"
   ]
  }
 ],
 "metadata": {
  "language_info": {
   "name": "python"
  }
 },
 "nbformat": 4,
 "nbformat_minor": 2
}
