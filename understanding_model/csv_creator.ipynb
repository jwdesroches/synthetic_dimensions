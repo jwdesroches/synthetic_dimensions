{
 "cells": [
  {
   "cell_type": "code",
   "execution_count": 1,
   "metadata": {},
   "outputs": [],
   "source": [
    "import sys\n",
    "import os\n",
    "sys.path.append(os.path.abspath(os.path.join(os.getcwd(), os.pardir)))\n",
    "from synth_dim_model import *\n",
    "\n",
    "import numpy as np\n",
    "import matplotlib.pyplot as plt\n",
    "from matplotlib.cm import get_cmap\n",
    "import pandas as pd\n",
    "import concurrent.futures\n",
    "\n",
    "import warnings\n",
    "warnings.filterwarnings(\"ignore\")"
   ]
  },
  {
   "cell_type": "code",
   "execution_count": 2,
   "metadata": {},
   "outputs": [
    {
     "name": "stdout",
     "output_type": "stream",
     "text": [
      "Saved energy gap data to energy_gap_V_negative_N=2_M=11.csv\n",
      "Saved sigma data to sigma_V_negative_N=2_M=11.csv\n",
      "Saved energy gap data to energy_gap_V_positive_N=2_M=11.csv\n",
      "Saved sigma data to sigma_V_positive_N=2_M=11.csv\n"
     ]
    }
   ],
   "source": [
    "def compute_values(mu_V_ratio, J_V_ratio, V, N, M, states):\n",
    "    \"\"\"Compute energy gap and sigma for given parameters.\"\"\"\n",
    "    H = construct_rescaled_hamiltonian(N, M, V, mu_V_ratio, J_V_ratio)\n",
    "    eigenvalues, eigenvectors = exact_diagonalize(H)\n",
    "    energy_gap = eigenvalues[1] - eigenvalues[0]\n",
    "    sigma = sigma_ij(0, 1, eigenvectors[0], states, N, M) / M\n",
    "    return energy_gap, sigma\n",
    "\n",
    "N = 2\n",
    "M = 11\n",
    "\n",
    "min_J_V_ratio = -5\n",
    "max_J_V_ratio = 5\n",
    "max_mu_V_ratio = 5\n",
    "resolution = 100\n",
    "\n",
    "mu_V_ratios = np.linspace(0, max_mu_V_ratio, resolution)\n",
    "J_V_ratios = np.linspace(min_J_V_ratio, max_J_V_ratio, resolution)\n",
    "mu_V_ratio_grid, J_V_ratio_grid = np.meshgrid(mu_V_ratios, J_V_ratios)\n",
    "\n",
    "for V in [-1,1]:\n",
    "    sigma_grid = np.zeros_like(mu_V_ratio_grid)\n",
    "    energy_gap_over_V_grid = np.zeros_like(mu_V_ratio_grid)\n",
    "    states, _ = enumerate_states(N, M)\n",
    "    \n",
    "    # Use ThreadPoolExecutor for parallel processing\n",
    "    with concurrent.futures.ThreadPoolExecutor() as executor:\n",
    "        future_to_index = {}\n",
    "        \n",
    "        for i, mu_V_ratio in enumerate(mu_V_ratios):\n",
    "            for j, J_V_ratio in enumerate(J_V_ratios):\n",
    "                future = executor.submit(compute_values, mu_V_ratio, J_V_ratio, V, N, M, states)\n",
    "                future_to_index[future] = (j, i)\n",
    "        \n",
    "        for future in concurrent.futures.as_completed(future_to_index):\n",
    "            j, i = future_to_index[future]\n",
    "            try:\n",
    "                energy_gap, sigma = future.result()\n",
    "                energy_gap_over_V_grid[j, i] = energy_gap\n",
    "                sigma_grid[j, i] = sigma\n",
    "            except Exception as e:\n",
    "                print(f\"Error computing values for indices ({j}, {i}): {e}\")\n",
    "    \n",
    "    sign = \"positive\" if V > 0 else \"negative\"\n",
    "    \n",
    "    data_energy = np.column_stack((mu_V_ratio_grid.ravel(), J_V_ratio_grid.ravel(), energy_gap_over_V_grid.ravel()))\n",
    "    energy_filename = f\"energy_gap_V_{sign}_N={N}_M={M}.csv\"\n",
    "    np.savetxt(energy_filename, data_energy, delimiter=\",\", header=\"mu_V_ratio,J_V_ratio,energy_gap\", comments=\"\")\n",
    "    print(f\"Saved energy gap data to {energy_filename}\")\n",
    "    \n",
    "    data_sigma = np.column_stack((mu_V_ratio_grid.ravel(), J_V_ratio_grid.ravel(), sigma_grid.ravel()))\n",
    "    sigma_filename = f\"sigma_V_{sign}_N={N}_M={M}.csv\"\n",
    "    np.savetxt(sigma_filename, data_sigma, delimiter=\",\", header=\"mu_V_ratio,J_V_ratio,sigma\", comments=\"\")\n",
    "    print(f\"Saved sigma data to {sigma_filename}\")\n"
   ]
  }
 ],
 "metadata": {
  "kernelspec": {
   "display_name": "synthetic_dim",
   "language": "python",
   "name": "python3"
  },
  "language_info": {
   "codemirror_mode": {
    "name": "ipython",
    "version": 3
   },
   "file_extension": ".py",
   "mimetype": "text/x-python",
   "name": "python",
   "nbconvert_exporter": "python",
   "pygments_lexer": "ipython3",
   "version": "3.8.19"
  }
 },
 "nbformat": 4,
 "nbformat_minor": 2
}
