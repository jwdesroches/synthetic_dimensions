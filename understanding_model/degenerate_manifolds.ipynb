{
 "cells": [
  {
   "cell_type": "code",
   "execution_count": 1,
   "metadata": {},
   "outputs": [],
   "source": [
    "import sys\n",
    "import os\n",
    "\n",
    "parent_dir = os.path.abspath(os.path.join(os.getcwd(), os.pardir))\n",
    "sys.path.append(parent_dir)\n",
    "\n",
    "from synth_dim_model import *\n",
    "\n",
    "import numpy as np\n",
    "import matplotlib.pyplot as plt\n",
    "from matplotlib.cm import get_cmap\n",
    "import pandas as pd\n",
    "\n",
    "import warnings\n",
    "warnings.filterwarnings(\"ignore\")"
   ]
  },
  {
   "cell_type": "code",
   "execution_count": 90,
   "metadata": {},
   "outputs": [],
   "source": [
    "N = 2\n",
    "M = 4\n",
    "V = 1\n",
    "\n",
    "hamiltonian = construct_rescaled_hamiltonian(N, M, V, mu_V_ratio = 0, J_V_ratio = 0)\n",
    "eigenvalues, eigenvectors = exact_diagonalize(hamiltonian)"
   ]
  },
  {
   "cell_type": "code",
   "execution_count": 91,
   "metadata": {},
   "outputs": [
    {
     "name": "stdout",
     "output_type": "stream",
     "text": [
      "3\n"
     ]
    }
   ],
   "source": [
    "ground_state_energy = eigenvalues[0]\n",
    "ground_state_manifold = []\n",
    "\n",
    "epsilon = 1e-9\n",
    "\n",
    "for i in range(M**N):\n",
    "    if ground_state_energy - epsilon <= eigenvalues[i] <= ground_state_energy + epsilon:\n",
    "        ground_state_manifold += [eigenvectors[i]]\n",
    "\n",
    "print(len(ground_state_manifold))"
   ]
  },
  {
   "cell_type": "code",
   "execution_count": 95,
   "metadata": {},
   "outputs": [
    {
     "name": "stdout",
     "output_type": "stream",
     "text": [
      "(0.49999999999999967+0j)\n"
     ]
    }
   ],
   "source": [
    "projector = np.zeros((M**N, M**N), dtype=complex)\n",
    "for psi in ground_state_manifold:\n",
    "    psi = psi.reshape(-1, 1)    \n",
    "    projector += psi @ psi.T.conj()\n",
    "    \n",
    "phi = eigenvectors[0] + eigenvectors[3]\n",
    "phi = phi/np.linalg.norm(phi)\n",
    "\n",
    "ground_state_manifold_overlap = phi.T.conj() @ projector @ phi\n",
    "print(ground_state_manifold_overlap)"
   ]
  },
  {
   "cell_type": "code",
   "execution_count": 68,
   "metadata": {},
   "outputs": [
    {
     "data": {
      "image/png": "[encoded data removed]",
      "text/plain": [
       "<Figure size 640x480 with 1 Axes>"
      ]
     },
     "metadata": {},
     "output_type": "display_data"
    }
   ],
   "source": [
    "fig, ax = plt.subplots()\n",
    "colors = get_cmap(\"gist_rainbow\", M**N)\n",
    "\n",
    "for i in range(M**N):\n",
    "    ax.axhline(y=eigenvalues[i], color = colors(i))"
   ]
  },
  {
   "cell_type": "code",
   "execution_count": null,
   "metadata": {},
   "outputs": [],
   "source": []
  }
 ],
 "metadata": {
  "kernelspec": {
   "display_name": "synthetic_dim",
   "language": "python",
   "name": "python3"
  },
  "language_info": {
   "codemirror_mode": {
    "name": "ipython",
    "version": 3
   },
   "file_extension": ".py",
   "mimetype": "text/x-python",
   "name": "python",
   "nbconvert_exporter": "python",
   "pygments_lexer": "ipython3",
   "version": "3.8.19"
  }
 },
 "nbformat": 4,
 "nbformat_minor": 2
}
