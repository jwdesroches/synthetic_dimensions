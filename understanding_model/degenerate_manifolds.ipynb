{
 "cells": [
  {
   "cell_type": "code",
   "execution_count": 1,
   "metadata": {},
   "outputs": [
    {
     "name": "stderr",
     "output_type": "stream",
     "text": [
      "c:\\Users\\Joe\\OneDrive\\Documents\\GitHub\\synthetic_dimensions\\synth_dim_model.py:459: SyntaxWarning: invalid escape sequence '\\e'\n",
      "  ax.set_ylabel(\"Scaled Energy [$E/N|V| = \\epsilon/|V|$]\")\n",
      "c:\\Users\\Joe\\OneDrive\\Documents\\GitHub\\synthetic_dimensions\\synth_dim_model.py:471: SyntaxWarning: invalid escape sequence '\\R'\n",
      "  ax1.set_ylabel(\"$\\Re$ Component\")\n",
      "c:\\Users\\Joe\\OneDrive\\Documents\\GitHub\\synthetic_dimensions\\synth_dim_model.py:472: SyntaxWarning: invalid escape sequence '\\I'\n",
      "  ax2.set_ylabel(\"$\\Im$ Component\")\n",
      "c:\\Users\\Joe\\OneDrive\\Documents\\GitHub\\synthetic_dimensions\\synth_dim_model.py:484: SyntaxWarning: invalid escape sequence '\\s'\n",
      "  ax.set_title(f\"Time Evolved $\\sigma$: $N={N}$, $M={M}$, $V<0$, $(J/|V|)_f = {J_V_ratios[-1]}$\")\n",
      "c:\\Users\\Joe\\OneDrive\\Documents\\GitHub\\synthetic_dimensions\\synth_dim_model.py:485: SyntaxWarning: invalid escape sequence '\\s'\n",
      "  ax.set_ylabel(\"$\\sigma^{01}/M$\")\n"
     ]
    }
   ],
   "source": [
    "import sys\n",
    "import os\n",
    "\n",
    "parent_dir = os.path.abspath(os.path.join(os.getcwd(), os.pardir))\n",
    "sys.path.append(parent_dir)\n",
    "\n",
    "from synth_dim_model import *\n",
    "\n",
    "import numpy as np\n",
    "import matplotlib.pyplot as plt\n",
    "from matplotlib.cm import get_cmap\n",
    "import pandas as pd\n",
    "\n",
    "import warnings\n",
    "warnings.filterwarnings(\"ignore\")"
   ]
  },
  {
   "cell_type": "code",
   "execution_count": 2,
   "metadata": {},
   "outputs": [],
   "source": [
    "N = 2\n",
    "M = 3\n",
    "V = 1\n",
    "\n",
    "hamiltonian = construct_rescaled_hamiltonian(N, M, V, mu_V_ratio = 0, J_V_ratio = 0)\n",
    "eigenvalues, eigenvectors = exact_diagonalize(hamiltonian)\n",
    "ground_state_manifold = construct_ground_state_manifold(eigenvalues, eigenvectors)"
   ]
  },
  {
   "cell_type": "code",
   "execution_count": 3,
   "metadata": {},
   "outputs": [
    {
     "name": "stdout",
     "output_type": "stream",
     "text": [
      "0.6666666666666665\n"
     ]
    }
   ],
   "source": [
    "phi = eigenvectors[0] + eigenvectors[1] + eigenvectors[-1]\n",
    "phi = phi/np.linalg.norm(phi)\n",
    "\n",
    "ground_state_probability = calculate_ground_state_manifold_overlap(phi, ground_state_manifold)\n",
    "print(ground_state_probability)"
   ]
  },
  {
   "cell_type": "code",
   "execution_count": null,
   "metadata": {},
   "outputs": [],
   "source": []
  }
 ],
 "metadata": {
  "kernelspec": {
   "display_name": "synthetic_dim",
   "language": "python",
   "name": "python3"
  },
  "language_info": {
   "codemirror_mode": {
    "name": "ipython",
    "version": 3
   },
   "file_extension": ".py",
   "mimetype": "text/x-python",
   "name": "python",
   "nbconvert_exporter": "python",
   "pygments_lexer": "ipython3",
   "version": "3.12.4"
  }
 },
 "nbformat": 4,
 "nbformat_minor": 2
}
