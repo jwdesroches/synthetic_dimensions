{
 "cells": [
  {
   "cell_type": "code",
   "execution_count": null,
   "metadata": {},
   "outputs": [],
   "source": [
    "import os\n",
    "import pandas as pd\n",
    "import numpy as np\n",
    "import json\n",
    "\n",
    "variable_1s = np.linspace(1, 10, 10)\n",
    "variable_2s = np.linspace(1, 10, 10)\n",
    "\n",
    "# Initialize list to hold all rows\n",
    "data = []\n",
    "\n",
    "# Create combinations\n",
    "for variable_1 in variable_1s:\n",
    "    for variable_2 in variable_2s:\n",
    "        data.append({\"variable_1\": variable_1, \"variable_2\": variable_2})\n",
    "\n",
    "# Convert to DataFrame\n",
    "df = pd.DataFrame(data)\n",
    "df.to_csv(\"input_parameters.csv\", index=False)\n",
    "\n",
    "# Create input folder\n",
    "os.makedirs(\"inputs\", exist_ok=True)\n",
    "\n",
    "# Save each row as a JSON input file\n",
    "for i, row in df.iterrows():\n",
    "    input_data = row.to_dict()\n",
    "    with open(f\"inputs/input_{i+1}.json\", \"w\") as f:\n",
    "        json.dump(input_data, f)\n",
    "        \n",
    "# setup_outputs.py\n",
    "os.makedirs(\"outputs\", exist_ok=True)"
   ]
  }
 ],
 "metadata": {
  "kernelspec": {
   "display_name": "synthetic_dim",
   "language": "python",
   "name": "python3"
  },
  "language_info": {
   "codemirror_mode": {
    "name": "ipython",
    "version": 3
   },
   "file_extension": ".py",
   "mimetype": "text/x-python",
   "name": "python",
   "nbconvert_exporter": "python",
   "pygments_lexer": "ipython3",
   "version": "3.12.4"
  }
 },
 "nbformat": 4,
 "nbformat_minor": 2
}
