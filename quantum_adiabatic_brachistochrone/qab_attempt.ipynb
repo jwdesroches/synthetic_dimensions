{
 "cells": [
  {
   "cell_type": "code",
   "execution_count": 127,
   "metadata": {},
   "outputs": [],
   "source": [
    "import sys\n",
    "import os\n",
    "sys.path.append(os.path.abspath(os.path.join(os.getcwd(), os.pardir)))\n",
    "from synth_dim_model import *\n",
    "\n",
    "import numpy as np\n",
    "import matplotlib.pyplot as plt\n",
    "from matplotlib.cm import get_cmap\n",
    "import pandas as pd\n",
    "\n",
    "import warnings\n",
    "warnings.filterwarnings(\"ignore\")"
   ]
  },
  {
   "cell_type": "code",
   "execution_count": 128,
   "metadata": {},
   "outputs": [],
   "source": [
    "# constants not to change\n",
    "\n",
    "N = 2\n",
    "M = 20\n",
    "V = 1"
   ]
  },
  {
   "cell_type": "code",
   "execution_count": 129,
   "metadata": {},
   "outputs": [],
   "source": [
    "def J_V_ratio_time_function(t, J_0, J_f, T):\n",
    "    # example using linear interpolation\n",
    "    return J_0 + (J_f - J_0)*(t/T)\n",
    "\n",
    "J_0 = 0\n",
    "J_f = 2"
   ]
  },
  {
   "cell_type": "code",
   "execution_count": 130,
   "metadata": {},
   "outputs": [
    {
     "data": {
      "text/plain": [
       "<matplotlib.legend.Legend at 0x26114be0520>"
      ]
     },
     "execution_count": 130,
     "metadata": {},
     "output_type": "execute_result"
    },
    {
     "data": {
      "image/png": "[encoded data removed]",
      "text/plain": [
       "<Figure size 640x480 with 1 Axes>"
      ]
     },
     "metadata": {},
     "output_type": "display_data"
    }
   ],
   "source": [
    "fig, ax = plt.subplots()\n",
    "Ms = range(2,30)\n",
    "colors = get_cmap(\"gist_rainbow\",len(Ms))\n",
    "\n",
    "T = 10\n",
    "dt = 0.1\n",
    "times = np.linspace(0,T,int(T/dt))\n",
    "\n",
    "r1s = []\n",
    "r2s = []\n",
    "for c, M in enumerate(Ms):\n",
    "    hamiltonians = []\n",
    "    for t in times:\n",
    "        hamiltonian = construct_rescaled_hamiltonian(N,M,V,mu_V_ratio=0,J_V_ratio=J_V_ratio_time_function(t=t,J_0=J_0,J_f=J_f,T=T))\n",
    "        hamiltonians.append(hamiltonian)\n",
    "    \n",
    "    time_derivatives = []\n",
    "    frobenius_norms = []\n",
    "    for idx in range(1,len(hamiltonians)):\n",
    "        dh_dt = (hamiltonians[idx] - hamiltonians[idx-1])/dt\n",
    "        time_derivatives.append(dh_dt)\n",
    "        \n",
    "        frobenius_norm = np.linalg.norm(dh_dt)\n",
    "        frobenius_norms.append(frobenius_norm)\n",
    "        \n",
    "    frobenius_norms = np.array(frobenius_norms)\n",
    "    avg_frob_norm_sq = np.mean(frobenius_norms)**2\n",
    "    \n",
    "    r1 = (4*M**2*(np.abs(J_f-J_0)/T)**2)/avg_frob_norm_sq\n",
    "    r2 = (4*M*(np.abs(J_f-J_0)/T)**2)/avg_frob_norm_sq\n",
    "    \n",
    "    r1s += [r1]\n",
    "    r2s += [r2]\n",
    "    \n",
    "ax.plot(Ms, r1s, \".r\", label = \"$||\\partial_t H||^2 / (4M^2(\\partial_t \\ J)^2)) $\")\n",
    "ax.plot(Ms, r2s, \".b\", label = \"$||\\partial_t H||^2 / (4M(\\partial_t \\ J)^2)) $\")\n",
    "ax.axhline(y=1, color = \"g\", linestyle = \"--\", label = \"1\")\n",
    "ax.axhline(y=0, color = \"m\", linestyle = \"--\", label = \"0\")\n",
    "ax.set_ylabel(\"$||\\partial_t H||^2$ Ratios\")\n",
    "ax.set_xlabel(\"M\")\n",
    "ax.set_ylim(-0.25,2.25)\n",
    "ax.legend()"
   ]
  },
  {
   "cell_type": "code",
   "execution_count": null,
   "metadata": {},
   "outputs": [],
   "source": []
  },
  {
   "cell_type": "code",
   "execution_count": null,
   "metadata": {},
   "outputs": [],
   "source": []
  }
 ],
 "metadata": {
  "kernelspec": {
   "display_name": "synthetic_dim",
   "language": "python",
   "name": "python3"
  },
  "language_info": {
   "codemirror_mode": {
    "name": "ipython",
    "version": 3
   },
   "file_extension": ".py",
   "mimetype": "text/x-python",
   "name": "python",
   "nbconvert_exporter": "python",
   "pygments_lexer": "ipython3",
   "version": "3.8.19"
  }
 },
 "nbformat": 4,
 "nbformat_minor": 2
}
