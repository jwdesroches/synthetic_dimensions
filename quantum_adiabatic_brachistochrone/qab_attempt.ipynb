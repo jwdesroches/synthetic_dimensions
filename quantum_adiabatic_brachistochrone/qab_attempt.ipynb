{
 "cells": [
  {
   "cell_type": "code",
   "execution_count": 37,
   "metadata": {},
   "outputs": [],
   "source": [
    "import sys\n",
    "import os\n",
    "sys.path.append(os.path.abspath(os.path.join(os.getcwd(), os.pardir)))\n",
    "from synth_dim_model import *\n",
    "\n",
    "import numpy as np\n",
    "import matplotlib.pyplot as plt\n",
    "from matplotlib.cm import get_cmap\n",
    "import pandas as pd\n",
    "\n",
    "import warnings\n",
    "warnings.filterwarnings(\"ignore\")"
   ]
  },
  {
   "cell_type": "code",
   "execution_count": 54,
   "metadata": {},
   "outputs": [],
   "source": [
    "# constants not to change\n",
    "\n",
    "N = 2\n",
    "M = 2\n",
    "V = 1\n"
   ]
  },
  {
   "cell_type": "code",
   "execution_count": 63,
   "metadata": {},
   "outputs": [],
   "source": [
    "def J_V_ratio_time_function(t, J_0, J_f, T):\n",
    "    # example using linear interpolation\n",
    "    return J_0 + (J_f - J_0)*(t/T)\n",
    "\n",
    "\n",
    "J_0 = 10\n",
    "J_f = 0\n",
    "\n",
    "T = 10\n",
    "dt = 0.01\n",
    "times = np.linspace(0,T,int(T/dt))\n",
    "\n",
    "hamiltonians = []\n",
    "for t in times:\n",
    "    hamiltonian = construct_rescaled_hamiltonian(N,M,V,mu_V_ratio=0,J_V_ratio=J_V_ratio_time_function(t=t,J_0=J_0,J_f=J_f,T=T))\n",
    "    hamiltonians.append(hamiltonian)"
   ]
  },
  {
   "cell_type": "code",
   "execution_count": 64,
   "metadata": {},
   "outputs": [],
   "source": [
    "time_derivatives = []\n",
    "frobenius_norms = []\n",
    "for idx in range(1,len(hamiltonians)):\n",
    "    dh_dt = (hamiltonians[idx] - hamiltonians[idx-1])/dt\n",
    "    time_derivatives.append(dh_dt)\n",
    "    \n",
    "    frobenius_norm = np.linalg.norm(dh_dt)\n",
    "    frobenius_norms.append(frobenius_norm)"
   ]
  },
  {
   "cell_type": "code",
   "execution_count": 66,
   "metadata": {},
   "outputs": [
    {
     "data": {
      "text/plain": [
       "Text(0.5, 0, 'Time')"
      ]
     },
     "execution_count": 66,
     "metadata": {},
     "output_type": "execute_result"
    },
    {
     "data": {
      "image/png": "[encoded data removed]",
      "text/plain": [
       "<Figure size 640x480 with 1 Axes>"
      ]
     },
     "metadata": {},
     "output_type": "display_data"
    }
   ],
   "source": [
    "fig, ax = plt.subplots()\n",
    "ax.plot(times[1:], frobenius_norms)\n",
    "ax.set_ylim(0,3)\n",
    "ax.set_ylabel(\"$||\\partial_t H||$\")\n",
    "ax.set_xlabel(\"Time\")"
   ]
  },
  {
   "cell_type": "code",
   "execution_count": null,
   "metadata": {},
   "outputs": [],
   "source": []
  }
 ],
 "metadata": {
  "kernelspec": {
   "display_name": "synthetic_dim",
   "language": "python",
   "name": "python3"
  },
  "language_info": {
   "codemirror_mode": {
    "name": "ipython",
    "version": 3
   },
   "file_extension": ".py",
   "mimetype": "text/x-python",
   "name": "python",
   "nbconvert_exporter": "python",
   "pygments_lexer": "ipython3",
   "version": "3.12.4"
  }
 },
 "nbformat": 4,
 "nbformat_minor": 2
}
