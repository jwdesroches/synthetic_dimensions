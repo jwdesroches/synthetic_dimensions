{
 "cells": [
  {
   "cell_type": "code",
   "execution_count": 1,
   "id": "fb7658e9",
   "metadata": {},
   "outputs": [],
   "source": [
    "import sys\n",
    "import os\n",
    "\n",
    "parent_dir = os.path.abspath(os.path.join(os.getcwd(), os.pardir))\n",
    "sys.path.append(parent_dir)\n",
    "\n",
    "from synth_dim_model import *\n",
    "\n",
    "import numpy as np\n",
    "from itertools import product\n",
    "import matplotlib.pyplot as plt\n",
    "from matplotlib.cm import get_cmap\n",
    "import pandas as pd\n",
    "\n",
    "import warnings\n",
    "warnings.filterwarnings(\"ignore\")"
   ]
  },
  {
   "cell_type": "code",
   "execution_count": 2,
   "id": "168e0fd7",
   "metadata": {},
   "outputs": [],
   "source": [
    "# Identity for single site\n",
    "id3 = np.eye(3)\n",
    "\n",
    "# Define x^{(±)}_{i,alpha}\n",
    "x_matrices = {\n",
    "    ('+', 1): np.array([[0, 0, 0], [0, 0, 0], [0, 1, 0]]),\n",
    "    ('-', 1): np.array([[0, 0, 0], [0, 0, 1], [0, 0, 0]]),\n",
    "    ('+', 2): np.array([[0, 1, 0], [0, 0, 0], [0, 0, 0]]),\n",
    "    ('-', 2): np.array([[0, 0, 0], [1, 0, 0], [0, 0, 0]]),\n",
    "}\n",
    "\n",
    "# Define T^{(±)}_{k,alpha,beta}\n",
    "T_matrices = {\n",
    "    ('+', 1, 1): np.array([[0, 0, 0], [0, 1, 0], [0, 0, -1]]),\n",
    "    ('-', 1, 1): np.array([[0, 0, 0], [0, 1, 0], [0, 0, -1]]),\n",
    "    ('+', 1, 2): np.array([[0, 0, 0], [0, 0, 0], [-1, 0, 0]]),\n",
    "    ('-', 1, 2): np.array([[0, 0, -1], [0, 0, 0], [0, 0, 0]]),\n",
    "    ('+', 2, 1): np.array([[0, 0, -1], [0, 0, 0], [0, 0, 0]]),\n",
    "    ('-', 2, 1): np.array([[0, 0, 0], [0, 0, 0], [-1, 0, 0]]),\n",
    "    ('+', 2, 2): np.array([[-1, 0, 0], [0, 1, 0], [0, 0, 0]]),\n",
    "    ('-', 2, 2): np.array([[-1, 0, 0], [0, 1, 0], [0, 0, 0]]),\n",
    "}\n",
    "\n",
    "def build_paraparticle_operator(N, site_index, alpha, sign):\n",
    "    assert 1 <= site_index <= N\n",
    "    assert alpha in [1, 2]\n",
    "    assert sign in ['+', '-']\n",
    "\n",
    "    total_op = np.zeros((3**N, 3**N))\n",
    "\n",
    "    # Generate all beta chains of length (site_index - 1)\n",
    "    for beta_chain in product([1, 2], repeat=site_index - 1):\n",
    "        op_list = []\n",
    "\n",
    "        # Construct the x^{(sign)}_{i,beta_{i-1}} part\n",
    "        beta_prev = beta_chain[-1] if beta_chain else alpha\n",
    "        x_op = x_matrices[(sign, beta_prev)]\n",
    "        op_list.append(x_op)\n",
    "\n",
    "        # Build T^{(sign)} chain in reverse site order\n",
    "        for k in reversed(range(site_index - 1)):\n",
    "            beta_k = beta_chain[k]\n",
    "            beta_k_minus_1 = alpha if k == 0 else beta_chain[k - 1]\n",
    "            T_k = T_matrices[(sign, beta_k_minus_1, beta_k)]\n",
    "            op_list.insert(0, T_k)  # prepend\n",
    "\n",
    "        # Pad identity operators\n",
    "        full_op_list = (\n",
    "            [id3] * (site_index - len(op_list)) + op_list + [id3] * (N - site_index)\n",
    "        )\n",
    "\n",
    "        # Compute full Kronecker product\n",
    "        kron_op = full_op_list[0]\n",
    "        for m in range(1, len(full_op_list)):\n",
    "            kron_op = np.kron(kron_op, full_op_list[m])\n",
    "\n",
    "        total_op += kron_op\n",
    "\n",
    "    return total_op\n",
    "\n",
    "\n",
    "def construct_site_paraparticle_number_operator(N, site_index):\n",
    "    assert 1 <= site_index <= N\n",
    "    n_i = np.zeros((3**N, 3**N))\n",
    "\n",
    "    for alpha in [1, 2]:\n",
    "        psi_plus = build_paraparticle_operator(N, site_index, alpha, '+')\n",
    "        psi_minus = build_paraparticle_operator(N, site_index, alpha, '-')\n",
    "        n_i += psi_plus @ psi_minus\n",
    "\n",
    "    return n_i\n",
    "\n",
    "def construct_total_paraparticle_number_operator(N):\n",
    "    total_n = np.zeros((3**N, 3**N))\n",
    "    for i in range(1, N + 1):\n",
    "        total_n += construct_site_paraparticle_number_operator(N, i)\n",
    "    return total_n\n",
    "\n",
    "def exact_diagonalize_with_total_paraparticle_number_symmetry(hamiltonian, total_paraparticle_number_operator):\n",
    "    \"\"\"\n",
    "    Diagonalizes a Hamiltonian within symmetry sectors defined by the total paraparticle number operator.\n",
    "    \n",
    "    Args:\n",
    "        hamiltonian (np.ndarray): The Hamiltonian matrix.\n",
    "        total_paraparticle_number_operator (np.ndarray): The symmetry operator (should commute with H).\n",
    "    \n",
    "    Returns:\n",
    "        eigenvalues (np.ndarray): 1D array of all eigenvalues.\n",
    "        eigenvectors (list of np.ndarray): List of eigenvectors (each is 1D, in original basis).\n",
    "        total_paraparticle_numbers (np.ndarray): Expectation values of total paraparticle number in each eigenstate.\n",
    "    \"\"\"\n",
    "    # Diagonalize the symmetry operator\n",
    "    eigvals_symm, V_N = np.linalg.eigh(total_paraparticle_number_operator)\n",
    "\n",
    "    # Rotate Hamiltonian into symmetry eigenbasis\n",
    "    number_basis_ham = V_N.conj().T @ hamiltonian @ V_N\n",
    "\n",
    "    # Identify unique symmetry sectors\n",
    "    unique_sectors = np.unique(np.round(eigvals_symm, decimals=10))  # rounded for numerical stability\n",
    "    sector_indices = {\n",
    "        sector: np.where(np.isclose(eigvals_symm, sector, atol=1e-10))[0]\n",
    "        for sector in unique_sectors\n",
    "    }\n",
    "\n",
    "    # Diagonalize each symmetry sector\n",
    "    sector_eigenvalues = {}\n",
    "    sector_eigenvectors = {}\n",
    "    for sector, indices in sector_indices.items():\n",
    "        block = number_basis_ham[np.ix_(indices, indices)]\n",
    "        e_vals, e_vecs = np.linalg.eigh(block)\n",
    "        sector_eigenvalues[sector] = e_vals\n",
    "        sector_eigenvectors[sector] = e_vecs\n",
    "\n",
    "    # Construct full eigenvectors in symmetry basis\n",
    "    dim = hamiltonian.shape[0]\n",
    "    full_symm_evecs = np.zeros((dim, dim), dtype=complex)\n",
    "    for sector, indices in sector_indices.items():\n",
    "        block_evecs = sector_eigenvectors[sector]\n",
    "        idx = np.ix_(indices, indices)\n",
    "        full_symm_evecs[idx] = block_evecs\n",
    "\n",
    "    # Rotate back to original basis\n",
    "    full_eigenvectors = V_N @ full_symm_evecs\n",
    "\n",
    "    # Gather eigenvalues and eigenvectors\n",
    "    full_eigenvalues = np.concatenate([sector_eigenvalues[sector] for sector in unique_sectors])\n",
    "    eigenvectors = [full_eigenvectors[:, i] for i in range(full_eigenvectors.shape[1])]\n",
    "\n",
    "    # Compute total paraparticle number in each eigenstate\n",
    "    total_ns = [\n",
    "        np.real_if_close(vec.conj().T @ total_paraparticle_number_operator @ vec)\n",
    "        for vec in eigenvectors\n",
    "    ]\n",
    "\n",
    "    return full_eigenvalues, eigenvectors, np.array(total_ns)\n"
   ]
  },
  {
   "cell_type": "code",
   "execution_count": null,
   "id": "d10dfc12",
   "metadata": {},
   "outputs": [
    {
     "ename": "ValueError",
     "evalue": "shapes (27,27) and (9,) not aligned: 27 (dim 1) != 9 (dim 0)",
     "output_type": "error",
     "traceback": [
      "\u001b[1;31m---------------------------------------------------------------------------\u001b[0m",
      "\u001b[1;31mValueError\u001b[0m                                Traceback (most recent call last)",
      "Cell \u001b[1;32mIn[11], line 15\u001b[0m\n\u001b[0;32m     12\u001b[0m eigenvalues, eigenvectors, total_ns \u001b[38;5;241m=\u001b[39m exact_diagonalize_with_total_paraparticle_number_symmetry(initial_hamiltonian, total_paraparticle_number_operator)\n\u001b[0;32m     13\u001b[0m initial_state \u001b[38;5;241m=\u001b[39m [\u001b[38;5;241m1\u001b[39m,\u001b[38;5;241m0\u001b[39m,\u001b[38;5;241m0\u001b[39m,\u001b[38;5;241m0\u001b[39m,\u001b[38;5;241m0\u001b[39m,\u001b[38;5;241m0\u001b[39m,\u001b[38;5;241m0\u001b[39m,\u001b[38;5;241m0\u001b[39m,\u001b[38;5;241m0\u001b[39m]\n\u001b[1;32m---> 15\u001b[0m results \u001b[38;5;241m=\u001b[39m \u001b[43msimulate_hamiltonian_time_evolution\u001b[49m\u001b[43m(\u001b[49m\u001b[43mhamiltonians\u001b[49m\u001b[43m,\u001b[49m\u001b[43m \u001b[49m\u001b[43mtimes\u001b[49m\u001b[43m,\u001b[49m\u001b[43m \u001b[49m\u001b[43minitial_state\u001b[49m\u001b[43m)\u001b[49m\n\u001b[0;32m     16\u001b[0m energies, time_evolved_wavefunctions, state_probabilities, state_overlaps, true_energies, ground_state_manifold_overlaps \u001b[38;5;241m=\u001b[39m results\n",
      "File \u001b[1;32mc:\\Users\\Joe\\OneDrive\\Documents\\GitHub\\synthetic_dimensions\\synth_dim_model.py:457\u001b[0m, in \u001b[0;36msimulate_hamiltonian_time_evolution\u001b[1;34m(hamiltonians, times, initial_state)\u001b[0m\n\u001b[0;32m    454\u001b[0m ground_state_manifold \u001b[38;5;241m=\u001b[39m construct_ground_state_manifold(eigenvalues, eigenvectors)\n\u001b[0;32m    455\u001b[0m true_energies\u001b[38;5;241m.\u001b[39mappend(eigenvalues) \n\u001b[1;32m--> 457\u001b[0m psi \u001b[38;5;241m=\u001b[39m \u001b[43mevolve_wavefunction\u001b[49m\u001b[43m(\u001b[49m\u001b[43mpsi\u001b[49m\u001b[43m,\u001b[49m\u001b[43m \u001b[49m\u001b[43minstantaneous_hamiltonian\u001b[49m\u001b[43m,\u001b[49m\u001b[43m \u001b[49m\u001b[43mdt\u001b[49m\u001b[43m)\u001b[49m\n\u001b[0;32m    458\u001b[0m psi \u001b[38;5;241m=\u001b[39m psi \u001b[38;5;241m/\u001b[39m np\u001b[38;5;241m.\u001b[39mlinalg\u001b[38;5;241m.\u001b[39mnorm(psi)  \n\u001b[0;32m    460\u001b[0m time_evolved_wavefunctions\u001b[38;5;241m.\u001b[39mappend(psi)\n",
      "File \u001b[1;32mc:\\Users\\Joe\\OneDrive\\Documents\\GitHub\\synthetic_dimensions\\synth_dim_model.py:398\u001b[0m, in \u001b[0;36mevolve_wavefunction\u001b[1;34m(psi, H, dt, hbar)\u001b[0m\n\u001b[0;32m    384\u001b[0m \u001b[38;5;250m\u001b[39m\u001b[38;5;124;03m\"\"\"\u001b[39;00m\n\u001b[0;32m    385\u001b[0m \u001b[38;5;124;03mEvolves the wavefunction psi under the Hamiltonian H using a unitary time evolution operator U = exp(-iH * dt / hbar).\u001b[39;00m\n\u001b[0;32m    386\u001b[0m \u001b[38;5;124;03mThis function applies the time evolution over a time step dt.\u001b[39;00m\n\u001b[1;32m   (...)\u001b[0m\n\u001b[0;32m    395\u001b[0m \u001b[38;5;124;03mnp.ndarray: The evolved wavefunction after the time step dt.\u001b[39;00m\n\u001b[0;32m    396\u001b[0m \u001b[38;5;124;03m\"\"\"\u001b[39;00m\n\u001b[0;32m    397\u001b[0m U \u001b[38;5;241m=\u001b[39m expm(\u001b[38;5;241m-\u001b[39m\u001b[38;5;241m1\u001b[39mj \u001b[38;5;241m*\u001b[39m H \u001b[38;5;241m*\u001b[39m dt)\n\u001b[1;32m--> 398\u001b[0m psi \u001b[38;5;241m=\u001b[39m \u001b[43mnp\u001b[49m\u001b[38;5;241;43m.\u001b[39;49m\u001b[43mdot\u001b[49m\u001b[43m(\u001b[49m\u001b[43mU\u001b[49m\u001b[43m,\u001b[49m\u001b[43m \u001b[49m\u001b[43mpsi\u001b[49m\u001b[43m)\u001b[49m\n\u001b[0;32m    399\u001b[0m \u001b[38;5;28;01mreturn\u001b[39;00m psi\n",
      "\u001b[1;31mValueError\u001b[0m: shapes (27,27) and (9,) not aligned: 27 (dim 1) != 9 (dim 0)"
     ]
    }
   ],
   "source": [
    "N = 3\n",
    "M = 3\n",
    "V = 1\n",
    "\n",
    "times = np.linspace(0, 500, 5000)\n",
    "initial_hamiltonian = construct_hamiltonian(N, M, V, mu = 0, J = 0)\n",
    "quench_hamiltonian = construct_hamiltonian(N, M, V, mu = 0, J = 3)\n",
    "\n",
    "hamiltonians = [initial_hamiltonian] + [quench_hamiltonian] * (len(times) - 1)\n",
    "total_paraparticle_number_operator = construct_total_paraparticle_number_operator(N)\n",
    "\n",
    "eigenvalues, eigenvectors, total_ns = exact_diagonalize_with_total_paraparticle_number_symmetry(initial_hamiltonian, total_paraparticle_number_operator)\n",
    "initial_state = eigenvectors[1]\n",
    "\n",
    "results = simulate_hamiltonian_time_evolution(hamiltonians, times, initial_state)\n",
    "energies, time_evolved_wavefunctions, state_probabilities, state_overlaps, true_energies, ground_state_manifold_overlaps = results\n"
   ]
  },
  {
   "cell_type": "code",
   "execution_count": 10,
   "id": "2dbfe9bc",
   "metadata": {},
   "outputs": [
    {
     "data": {
      "text/plain": [
       "Text(0, 0.5, 'Total Paraparticle Number')"
      ]
     },
     "execution_count": 10,
     "metadata": {},
     "output_type": "execute_result"
    },
    {
     "data": {
      "image/png": "[encoded data removed]",
      "text/plain": [
       "<Figure size 1000x600 with 1 Axes>"
      ]
     },
     "metadata": {},
     "output_type": "display_data"
    }
   ],
   "source": [
    "fig, ax  = plt.subplots(figsize=(10, 6))\n",
    "\n",
    "\n",
    "for i, wavefunction in enumerate(time_evolved_wavefunctions):\n",
    "    paraparticle_number = wavefunction.conj().T @ total_paraparticle_number_operator @ wavefunction\n",
    "    ax.plot(times[i], paraparticle_number, '.k')\n",
    "\n",
    "ax.set_xlabel('Time')\n",
    "ax.set_ylabel('Total Paraparticle Number')"
   ]
  },
  {
   "cell_type": "code",
   "execution_count": 83,
   "id": "a8c70081",
   "metadata": {},
   "outputs": [],
   "source": [
    "N = 5\n",
    "M = 3\n",
    "V = 1\n",
    "\n",
    "times = np.linspace(0, 1000, 1000)\n",
    "hamiltonian = construct_hamiltonian(N, M, V, mu = 0, J = 0.1)\n",
    "\n",
    "hamiltonians = [hamiltonian for t in times]\n",
    "total_paraparticle_number_operator = construct_total_paraparticle_number_operator(N)\n",
    "\n",
    "initial_state = np.zeros(M**N)\n",
    "initial_state[0] = 1\n",
    "\n",
    "\"\"\"initial_state = np.random.random(M**N)\n",
    "initial_state = initial_state/np.linalg.norm(initial_state)\"\"\"\n",
    "\n",
    "results = simulate_hamiltonian_time_evolution(hamiltonians, times, initial_state)\n",
    "energies, time_evolved_wavefunctions, state_probabilities, state_overlaps, true_energies, ground_state_manifold_overlaps = results"
   ]
  },
  {
   "cell_type": "code",
   "execution_count": 84,
   "id": "7264df15",
   "metadata": {},
   "outputs": [],
   "source": [
    "total_paraparticle_number_operator = construct_total_paraparticle_number_operator(N)\n",
    "center_paraparticle_number_operator = construct_site_paraparticle_number_operator(N, 2)\n",
    "\n",
    "exp_values = []\n",
    "for state in time_evolved_wavefunctions:\n",
    "    exp_values += [state.conj().T @ center_paraparticle_number_operator @ state]"
   ]
  },
  {
   "cell_type": "code",
   "execution_count": 92,
   "id": "22e84bf1",
   "metadata": {},
   "outputs": [
    {
     "data": {
      "text/plain": [
       "Text(1, 0.75, '$N = 5$ sites, $J = 0.1$')"
      ]
     },
     "execution_count": 92,
     "metadata": {},
     "output_type": "execute_result"
    },
    {
     "data": {
      "image/png": "[encoded data removed]",
      "text/plain": [
       "<Figure size 640x480 with 1 Axes>"
      ]
     },
     "metadata": {},
     "output_type": "display_data"
    }
   ],
   "source": [
    "fig, ax = plt.subplots()\n",
    "ax.plot(times, exp_values, '-')\n",
    "ax.set_ylabel(\"$\\langle n_C (t) \\\\rangle$\")\n",
    "ax.set_xlabel(\"t\")\n",
    "ax.set_ylim(np.mean(exp_values) - 0.25, np.mean(exp_values) + 0.25)\n",
    "ax.text(x=1, y = 0.75, s= \"$N = 5$ sites, $J = 0.1$\")"
   ]
  },
  {
   "cell_type": "code",
   "execution_count": null,
   "id": "79d1df64",
   "metadata": {},
   "outputs": [],
   "source": []
  },
  {
   "cell_type": "code",
   "execution_count": null,
   "id": "801c8b2a",
   "metadata": {},
   "outputs": [],
   "source": []
  }
 ],
 "metadata": {
  "kernelspec": {
   "display_name": "synthetic_dim",
   "language": "python",
   "name": "python3"
  },
  "language_info": {
   "codemirror_mode": {
    "name": "ipython",
    "version": 3
   },
   "file_extension": ".py",
   "mimetype": "text/x-python",
   "name": "python",
   "nbconvert_exporter": "python",
   "pygments_lexer": "ipython3",
   "version": "3.8.19"
  }
 },
 "nbformat": 4,
 "nbformat_minor": 5
}
