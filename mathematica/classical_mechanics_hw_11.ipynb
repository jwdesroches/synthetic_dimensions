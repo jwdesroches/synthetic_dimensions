{
 "cells": [
  {
   "cell_type": "code",
   "execution_count": null,
   "metadata": {
    "vscode": {
     "languageId": "plaintext"
    }
   },
   "outputs": [],
   "source": [
    "import numpy as np\n",
    "from scipy.integrate import solve_ivp\n",
    "import matplotlib.pyplot as plt\n",
    "from mpl_toolkits.mplot3d import Axes3D\n",
    "\n",
    "# Parameters\n",
    "c1 = 15.6\n",
    "c2 = 1\n",
    "c3 = 0.1  # Example value; you can vary this\n",
    "m0 = -8 / 7\n",
    "m1 = -5 / 7\n",
    "\n",
    "# Function g(x)\n",
    "def g(x):\n",
    "    return m1 * x + m0 - (m1 / 2) * (np.abs(x + 1) - np.abs(x - 1))\n",
    "\n",
    "# System of ODEs\n",
    "def system(t, vars):\n",
    "    x, y, z = vars\n",
    "    dxdt = c1 * (y - x - g(x))\n",
    "    dydt = c2 * (x - y + z)\n",
    "    dzdt = -c3 * y\n",
    "    return [dxdt, dydt, dzdt]\n"
   ]
  }
 ],
 "metadata": {
  "language_info": {
   "name": "python"
  }
 },
 "nbformat": 4,
 "nbformat_minor": 2
}
