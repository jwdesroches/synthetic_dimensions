{
 "cells": [
  {
   "cell_type": "code",
   "execution_count": 118,
   "id": "782f7d67",
   "metadata": {},
   "outputs": [
    {
     "data": {
      "text/plain": [
       "<Token var=<ContextVar name='format_options' default={'edgeitems': 3, 'threshold': 1000, 'floatmode': 'maxprec', 'precision': 8, 'suppress': False, 'linewidth': 75, 'nanstr': 'nan', 'infstr': 'inf', 'sign': '-', 'formatter': None, 'legacy': 9223372036854775807, 'override_repr': None} at 0x0000022D1D556ED0> at 0x0000022D3577BC80>"
      ]
     },
     "execution_count": 118,
     "metadata": {},
     "output_type": "execute_result"
    }
   ],
   "source": [
    "import sys\n",
    "import os\n",
    "\n",
    "parent_dir = os.path.abspath(os.path.join(os.getcwd(), os.pardir))\n",
    "sys.path.append(parent_dir)\n",
    "\n",
    "data_folder_path = os.path.abspath(os.path.join(os.getcwd(), os.pardir, \"data_folder\"))\n",
    "sys.path.append(data_folder_path) \n",
    "\n",
    "from synth_dim_model import *\n",
    "from paraparticle_utils import *\n",
    "\n",
    "import numpy as np\n",
    "import scipy\n",
    "import matplotlib.pyplot as plt\n",
    "\n",
    "import warnings\n",
    "warnings.filterwarnings(\"ignore\")\n",
    "\n",
    "import concurrent.futures\n",
    "plt.rcParams.update({'font.size': 12})\n",
    "\n",
    "from mpl_toolkits.axes_grid1 import make_axes_locatable\n",
    "from matplotlib.colors import Normalize\n",
    "np.set_printoptions(precision=5, suppress=True, linewidth=100)\n"
   ]
  },
  {
   "cell_type": "code",
   "execution_count": 119,
   "id": "7c964969",
   "metadata": {},
   "outputs": [],
   "source": [
    "N = 2\n",
    "\n",
    "H = construct_hamiltonian(N, M = 3, V = 1, mu = 0, J = 0)\n",
    "eigenvalues, eigenvectors = exact_diagonalize(H)\n",
    "\n",
    "ground_state_manifold = construct_ground_state_manifold(eigenvalues, eigenvectors)\n",
    "\n",
    "states, formatted_states = enumerate_states(N, M = 3)"
   ]
  },
  {
   "cell_type": "code",
   "execution_count": 120,
   "id": "37c0bf30",
   "metadata": {},
   "outputs": [],
   "source": [
    "def build_spin_operator(N, site_index, alpha, sign):\n",
    "    \"\"\"\n",
    "    Build the operator x_{i,alpha}^{(sign)} as a 3^N x 3^N matrix,\n",
    "    acting on site_index ∈ [0, N-1].\n",
    "    \n",
    "    Args:\n",
    "        N (int): number of sites\n",
    "        site_index (int): site to act on (0-indexed)\n",
    "        alpha (int): 1 or 2, selects which x^{(±)}_{i,alpha}\n",
    "        sign (str): '+' or '-'\n",
    "    \n",
    "    Returns:\n",
    "        np.ndarray: 3^N x 3^N matrix representing x_{i,alpha}^{(sign)}\n",
    "    \"\"\"\n",
    "    assert 0 <= site_index < N\n",
    "    assert alpha in [1, 2]\n",
    "    assert sign in ['+', '-']\n",
    "\n",
    "    id3 = np.eye(3)\n",
    "\n",
    "    x_matrices = {\n",
    "        ('+', 1): np.array([[0, 0, 0],\n",
    "                            [0, 0, 0],\n",
    "                            [0, 1, 0]]),\n",
    "        ('-', 1): np.array([[0, 0, 0],\n",
    "                            [0, 0, 1],\n",
    "                            [0, 0, 0]]),\n",
    "        ('+', 2): np.array([[0, 1, 0],\n",
    "                            [0, 0, 0],\n",
    "                            [0, 0, 0]]),\n",
    "        ('-', 2): np.array([[0, 0, 0],\n",
    "                            [1, 0, 0],\n",
    "                            [0, 0, 0]]),\n",
    "    }\n",
    "\n",
    "    op_list = [id3] * site_index + [x_matrices[(sign, alpha)]] + [id3] * (N - site_index - 1)\n",
    "    full_op = op_list[0]\n",
    "    for op in op_list[1:]:\n",
    "        full_op = np.kron(full_op, op)\n",
    "\n",
    "    return full_op"
   ]
  },
  {
   "cell_type": "code",
   "execution_count": 121,
   "id": "0938b182",
   "metadata": {},
   "outputs": [
    {
     "name": "stdout",
     "output_type": "stream",
     "text": [
      "0j: |0,0>\n",
      "(0.7071067811865477+0j): |0,1>\n",
      "0j: |0,2>\n",
      "(-0.7071067811865475+0j): |1,0>\n",
      "0j: |1,1>\n",
      "0j: |1,2>\n",
      "0j: |2,0>\n",
      "0j: |2,1>\n",
      "0j: |2,2>\n"
     ]
    }
   ],
   "source": [
    "state = eigenvectors[0]\n",
    "\n",
    "for i, value in enumerate(state):\n",
    "    print(f\"{value}: {formatted_states[i]}\")\n",
    "    \n"
   ]
  },
  {
   "cell_type": "code",
   "execution_count": 122,
   "id": "a9d80db1",
   "metadata": {},
   "outputs": [],
   "source": [
    "new_state = x_1 @ state\n",
    "\n",
    "if np.linalg.norm(new_state) != 0:\n",
    "    new_state = new_state/np.linalg.norm(new_state)"
   ]
  },
  {
   "cell_type": "code",
   "execution_count": 123,
   "id": "128b5c16",
   "metadata": {},
   "outputs": [
    {
     "name": "stdout",
     "output_type": "stream",
     "text": [
      "0j: |0,0>\n",
      "0j: |0,1>\n",
      "0j: |0,2>\n",
      "0j: |1,0>\n",
      "0j: |1,1>\n",
      "0j: |1,2>\n",
      "(-1+0j): |2,0>\n",
      "0j: |2,1>\n",
      "0j: |2,2>\n"
     ]
    }
   ],
   "source": [
    "for i, value in enumerate(new_state):\n",
    "    print(f\"{value}: {formatted_states[i]}\")"
   ]
  },
  {
   "cell_type": "code",
   "execution_count": null,
   "id": "4d51518a",
   "metadata": {},
   "outputs": [],
   "source": []
  }
 ],
 "metadata": {
  "kernelspec": {
   "display_name": "synthetic_dim",
   "language": "python",
   "name": "python3"
  },
  "language_info": {
   "codemirror_mode": {
    "name": "ipython",
    "version": 3
   },
   "file_extension": ".py",
   "mimetype": "text/x-python",
   "name": "python",
   "nbconvert_exporter": "python",
   "pygments_lexer": "ipython3",
   "version": "3.12.4"
  }
 },
 "nbformat": 4,
 "nbformat_minor": 5
}
