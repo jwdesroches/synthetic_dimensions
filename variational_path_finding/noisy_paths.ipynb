{
 "cells": [
  {
   "cell_type": "code",
   "execution_count": null,
   "metadata": {
    "vscode": {
     "languageId": "plaintext"
    }
   },
   "outputs": [],
   "source": [
    "def make_noisy_path(path, noise_strength):\n",
    "    \"\"\"\n",
    "    Adds Gaussian noise to the interior of the given path, leaving the first and last points unchanged.\n",
    "    \"\"\"\n",
    "    noisy_path = path.copy()\n",
    "    if len(path) > 2:\n",
    "        noise = np.random.normal(0, noise_strength, size=path[1:-1].shape)\n",
    "        noisy_path[1:-1] += noise\n",
    "    return noisy_path\n",
    "\n",
    "noise_strength = 0.1\n",
    "J_V_path_noisy = make_noisy_path(J_V_path, noise_strength)\n",
    "mu_V_path_noisy = make_noisy_path(mu_V_path, noise_strength)\n",
    "\n",
    "noisy_hamiltonians = []\n",
    "for i, t in enumerate(times_dense):\n",
    "    ham = construct_rescaled_hamiltonian(N, M, V,\n",
    "                                         mu_V_ratio=mu_V_path_noisy[i],\n",
    "                                         J_V_ratio=J_V_path_noisy[i])\n",
    "    noisy_hamiltonians.append(ham)\n",
    "\n",
    "results = simulate_hamiltonian_time_evolution(noisy_hamiltonians, times_dense)\n",
    "plot_time_evolution(N, M, results, times_dense, J_V_ratios=J_V_path_noisy, mu_V_ratios=mu_V_path_noisy, plot_overlaps = False, plot_sigma = False)\n",
    "\n",
    "\n",
    "print(results[-1][-1])\n",
    "\n",
    "if np.sign(V) > 0:\n",
    "    plot_data(N, M, sign_V=\"positive\", gap_or_sigma=\"energy_gap\", include_path = True, mu_V_ratios = mu_V_path_noisy, J_V_ratios = J_V_path_noisy, times = times_dense)\n",
    "else:\n",
    "    plot_data(N, M, sign_V=\"negative\", gap_or_sigma=\"energy_gap\", include_path = True, mu_V_ratios = mu_V_path_noisy, J_V_ratios = J_V_path_noisy, times = times_dense)"
   ]
  }
 ],
 "metadata": {
  "language_info": {
   "name": "python"
  }
 },
 "nbformat": 4,
 "nbformat_minor": 2
}
