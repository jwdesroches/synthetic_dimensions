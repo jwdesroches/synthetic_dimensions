{
 "cells": [
  {
   "cell_type": "code",
   "execution_count": 87,
   "metadata": {},
   "outputs": [],
   "source": [
    "import sys\n",
    "import os\n",
    "sys.path.append(os.path.abspath(os.path.join(os.getcwd(), os.pardir)))\n",
    "from synth_dim_model import *\n",
    "\n",
    "import numpy as np\n",
    "import matplotlib.pyplot as plt\n",
    "from matplotlib.cm import get_cmap\n",
    "import pandas as pd\n",
    "\n",
    "import warnings\n",
    "warnings.filterwarnings(\"ignore\")"
   ]
  },
  {
   "cell_type": "code",
   "execution_count": 88,
   "metadata": {},
   "outputs": [],
   "source": [
    "def simulate_hamiltonian_time_evolution(hamiltonians, times, initial_state=None):\n",
    "    \n",
    "    n_excited_states = len(hamiltonians[0])\n",
    "    initial_hamiltonian = hamiltonians[0]\n",
    "    \n",
    "    if initial_state is None:\n",
    "        _, eigenvectors_0 = exact_diagonalize(initial_hamiltonian)\n",
    "        psi_0 = eigenvectors_0[0]\n",
    "    else:\n",
    "        psi_0 = initial_state\n",
    "\n",
    "    energies = []\n",
    "    time_evolved_wavefunctions = []\n",
    "    state_probabilities = []\n",
    "    state_overlaps = []\n",
    "    true_energies = []\n",
    "\n",
    "    psi = psi_0.copy()\n",
    "    for idx, instantaneous_hamiltonian in enumerate(hamiltonians):\n",
    "        \n",
    "        if idx > 1:\n",
    "            dt = times[idx] - times[idx - 1]\n",
    "        else:\n",
    "            dt = times[idx]\n",
    "            \n",
    "        eigenvalues, eigenvectors = exact_diagonalize(instantaneous_hamiltonian)\n",
    "        true_energies.append(eigenvalues)    \n",
    "        \n",
    "        psi = evolve_wavefunction(psi, instantaneous_hamiltonian, dt)\n",
    "        psi = psi / np.linalg.norm(psi)  \n",
    "        \n",
    "        time_evolved_wavefunctions.append(psi)\n",
    "        \n",
    "        energy = np.real(np.conj(psi).T @ instantaneous_hamiltonian @ psi)\n",
    "        energies.append(energy)\n",
    "        \n",
    "        overlap = [np.dot(np.conj(eigenvectors[i]).T, psi) for i in range(n_excited_states)] \n",
    "        probability = [np.abs(np.conj(eigenvectors[i]).T @ psi)**2 for i in range(n_excited_states)]\n",
    "               \n",
    "        state_probabilities.append(probability)\n",
    "        state_overlaps.append(overlap)\n",
    "\n",
    "    energies = np.array(energies)\n",
    "    time_evolved_wavefunctions = np.array(time_evolved_wavefunctions)\n",
    "    state_probabilities = np.array(state_probabilities)\n",
    "    state_overlaps = np.array(state_overlaps)\n",
    "    true_energies = np.array(true_energies)\n",
    "        \n",
    "    return energies, time_evolved_wavefunctions, state_probabilities, state_overlaps, true_energies"
   ]
  },
  {
   "cell_type": "code",
   "execution_count": 89,
   "metadata": {},
   "outputs": [
    {
     "name": "stdout",
     "output_type": "stream",
     "text": [
      "0.9546322870589423\n"
     ]
    }
   ],
   "source": [
    "\n",
    "# CONSTANTS \n",
    "\n",
    "N = 2\n",
    "M = 3\n",
    "V = -1\n",
    "T = 10\n",
    "dt = 0.01\n",
    "times = np.arange(0,T+dt,dt)\n",
    "\n",
    "def J_V_ratio_ansatz(t, T, params):\n",
    "    return params[0]*(1-t/T) +params[1]*(t/T)\n",
    "\n",
    "def mu_V_ratio_ansatz(t, T, params):\n",
    "    return params[0]*(1-t/T) +params[1]*(t/T)\n",
    "\n",
    "# THESE SHOULD BE VARIED\n",
    "\n",
    "J_V_ratio_params = [5,1]\n",
    "mu_V_ratio_params = [10,0]\n",
    "\n",
    "hamiltonians = []\n",
    "for t in times:\n",
    "    hamiltonians.append(construct_rescaled_hamiltonian(N,M,V,\n",
    "                                            mu_V_ratio=mu_V_ratio_ansatz(t,T,mu_V_ratio_params),\n",
    "                                            J_V_ratio=J_V_ratio_ansatz(t,T,J_V_ratio_params)))\n",
    "    \n",
    "results = simulate_hamiltonian_time_evolution(hamiltonians, times)\n",
    "energies, time_evolved_wavefunctions, state_probabilities, state_overlaps, true_energies = results\n",
    "\n",
    "ground_state_fidelity = state_probabilities[-1,0]\n",
    "print(ground_state_fidelity)\n"
   ]
  },
  {
   "cell_type": "code",
   "execution_count": 90,
   "metadata": {},
   "outputs": [
    {
     "name": "stdout",
     "output_type": "stream",
     "text": [
      "0.9546322870589423\n"
     ]
    }
   ],
   "source": [
    "results = simulate_hamiltonian_time_evolution(hamiltonians, times)\n",
    "energies, time_evolved_wavefunctions, state_probabilities, state_overlaps, true_energies = results\n",
    "\n",
    "ground_state_fidelity = state_probabilities[-1,0]\n",
    "print(ground_state_fidelity)\n",
    "\n"
   ]
  },
  {
   "cell_type": "code",
   "execution_count": 91,
   "metadata": {},
   "outputs": [
    {
     "data": {
      "text/plain": [
       "<matplotlib.legend.Legend at 0x21c9ed0efa0>"
      ]
     },
     "execution_count": 91,
     "metadata": {},
     "output_type": "execute_result"
    },
    {
     "data": {
      "image/png": "[encoded data removed]",
      "text/plain": [
       "<Figure size 640x480 with 1 Axes>"
      ]
     },
     "metadata": {},
     "output_type": "display_data"
    }
   ],
   "source": [
    "fig, ax = plt.subplots()\n",
    "colors = get_cmap(\"gist_rainbow\", M**N - 1)\n",
    "\n",
    "ax.plot(times,state_probabilities[:,0], \"-k\", label = \"$\\langle \\psi_0 | \\psi(t) \\\\rangle$\")\n",
    "for i in range(1,M**N):\n",
    "    ax.plot(times,state_probabilities[:,i], color = colors(i), label = f\"$\\langle \\psi_{i} | \\psi(t) \\\\rangle$\")\n",
    "ax.set_ylim(-0.1,1.1) \n",
    "ax.legend(ncols = 3, loc = \"center\")"
   ]
  }
 ],
 "metadata": {
  "kernelspec": {
   "display_name": "synthetic_dim",
   "language": "python",
   "name": "python3"
  },
  "language_info": {
   "codemirror_mode": {
    "name": "ipython",
    "version": 3
   },
   "file_extension": ".py",
   "mimetype": "text/x-python",
   "name": "python",
   "nbconvert_exporter": "python",
   "pygments_lexer": "ipython3",
   "version": "3.8.19"
  }
 },
 "nbformat": 4,
 "nbformat_minor": 2
}
