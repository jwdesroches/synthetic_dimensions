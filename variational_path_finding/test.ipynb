{
 "cells": [
  {
   "cell_type": "code",
   "execution_count": 1,
   "metadata": {},
   "outputs": [],
   "source": [
    "import sys\n",
    "import os\n",
    "\n",
    "parent_dir = os.path.abspath(os.path.join(os.getcwd(), os.pardir))\n",
    "sys.path.append(parent_dir)\n",
    "\n",
    "from synth_dim_model import *\n",
    "\n",
    "import numpy as np\n",
    "import matplotlib.pyplot as plt\n",
    "from matplotlib.cm import get_cmap\n",
    "import pandas as pd\n",
    "\n",
    "import warnings\n",
    "warnings.filterwarnings(\"ignore\")"
   ]
  },
  {
   "cell_type": "code",
   "execution_count": 11,
   "metadata": {},
   "outputs": [
    {
     "name": "stdout",
     "output_type": "stream",
     "text": [
      "0.0002468404320589918\n"
     ]
    }
   ],
   "source": [
    "N = 2\n",
    "M = 3\n",
    "V = -1\n",
    "\n",
    "hamiltonian = construct_rescaled_hamiltonian(N,M,V, mu_V_ratio = 0, J_V_ratio = 0)\n",
    "\n",
    "eigenvalues, eigenvectors = exact_diagonalize(hamiltonian)\n",
    "ground_state_manifold = construct_ground_state_manifold(eigenvalues, eigenvectors)\n",
    "\n",
    "initial_hamiltonian = construct_rescaled_hamiltonian(N,M,V, mu_V_ratio=10, J_V_ratio=0.1)\n",
    "initial_eigenvalues, initial_eigenvectors = exact_diagonalize(initial_hamiltonian)\n",
    "\n",
    "initial_state = initial_eigenvectors[0]\n",
    "\n",
    "initial_overlap = calculate_ground_state_manifold_overlap(initial_state, ground_state_manifold)\n",
    "print(initial_overlap)"
   ]
  },
  {
   "cell_type": "code",
   "execution_count": null,
   "metadata": {},
   "outputs": [],
   "source": []
  }
 ],
 "metadata": {
  "kernelspec": {
   "display_name": "synthetic_dim",
   "language": "python",
   "name": "python3"
  },
  "language_info": {
   "codemirror_mode": {
    "name": "ipython",
    "version": 3
   },
   "file_extension": ".py",
   "mimetype": "text/x-python",
   "name": "python",
   "nbconvert_exporter": "python",
   "pygments_lexer": "ipython3",
   "version": "3.8.19"
  }
 },
 "nbformat": 4,
 "nbformat_minor": 2
}
