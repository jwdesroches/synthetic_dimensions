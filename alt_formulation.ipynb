{
 "cells": [
  {
   "cell_type": "code",
   "execution_count": 1,
   "metadata": {},
   "outputs": [],
   "source": [
    "# idea from sohail, use first quantization. \n",
    "# e.g., for N real sites, with particle 1 in synthetic level n_1, particle 2 in synthetic level n_2, etc., we have |n_1, n_2, ..., n_N>. this\n",
    "# naturally assuems only 1 particle per site. furthermore, our Hilbert space is now only M^N for M synthetic levels and N real sites."
   ]
  },
  {
   "cell_type": "code",
   "execution_count": 2,
   "metadata": {},
   "outputs": [],
   "source": [
    "import numpy as np"
   ]
  },
  {
   "cell_type": "code",
   "execution_count": 7,
   "metadata": {},
   "outputs": [],
   "source": [
    "def enumerate_states(N, M):\n",
    "    if N <= 0 or M <= 0:\n",
    "        return []\n",
    "\n",
    "    states = []\n",
    "    current_state = [0] * N\n",
    "\n",
    "    while True:\n",
    "        \n",
    "        states.append(current_state.copy())\n",
    "\n",
    "        for i in range(N-1, -1, -1):\n",
    "            if current_state[i] < M-1:\n",
    "                current_state[i] += 1\n",
    "                break\n",
    "            else:\n",
    "                current_state[i] = 0\n",
    "        else:\n",
    "            break\n",
    "\n",
    "    if M**N == len(states):\n",
    "        formatted_states = [\"|\" + \",\".join(map(str, state)) + \">\" for state in states]\n",
    "        return states, formatted_states\n",
    "    \n",
    "    else:\n",
    "        print(\"There was an issue enumerating the states.\") \n",
    "        return None, None\n",
    "\n",
    "M = 2\n",
    "N = 3\n",
    "\n",
    "states, formatted_states = enumerate_states(N,M)\n",
    "#print(states)\n",
    "#print(formatted_states)"
   ]
  },
  {
   "cell_type": "code",
   "execution_count": 9,
   "metadata": {},
   "outputs": [],
   "source": [
    "# make a key to identify matrix elements\n",
    "\n",
    "H_key = np.empty((M**N, M**N), dtype = object)\n",
    "for x in range(M**N):\n",
    "    for y in range(M**N):\n",
    "        H_key[x,y] = \"<\" + formatted_states[x][::-1][1::]+ \"H\" + formatted_states[y]"
   ]
  },
  {
   "cell_type": "code",
   "execution_count": null,
   "metadata": {},
   "outputs": [],
   "source": []
  },
  {
   "cell_type": "code",
   "execution_count": null,
   "metadata": {},
   "outputs": [],
   "source": []
  }
 ],
 "metadata": {
  "kernelspec": {
   "display_name": "synthetic_dim",
   "language": "python",
   "name": "python3"
  },
  "language_info": {
   "codemirror_mode": {
    "name": "ipython",
    "version": 3
   },
   "file_extension": ".py",
   "mimetype": "text/x-python",
   "name": "python",
   "nbconvert_exporter": "python",
   "pygments_lexer": "ipython3",
   "version": "3.8.19"
  }
 },
 "nbformat": 4,
 "nbformat_minor": 2
}
