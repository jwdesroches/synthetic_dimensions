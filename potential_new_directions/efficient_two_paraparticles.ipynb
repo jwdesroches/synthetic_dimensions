{
 "cells": [
  {
   "cell_type": "code",
   "execution_count": 1,
   "id": "dfc369a0",
   "metadata": {},
   "outputs": [
    {
     "data": {
      "text/plain": [
       "<Token var=<ContextVar name='format_options' default={'edgeitems': 3, 'threshold': 1000, 'floatmode': 'maxprec', 'precision': 8, 'suppress': False, 'linewidth': 75, 'nanstr': 'nan', 'infstr': 'inf', 'sign': '-', 'formatter': None, 'legacy': 9223372036854775807, 'override_repr': None} at 0x0000015295B78770> at 0x00000152AE1FD240>"
      ]
     },
     "execution_count": 1,
     "metadata": {},
     "output_type": "execute_result"
    }
   ],
   "source": [
    "import sys\n",
    "import os\n",
    "\n",
    "parent_dir = os.path.abspath(os.path.join(os.getcwd(), os.pardir))\n",
    "sys.path.append(parent_dir)\n",
    "\n",
    "data_folder_path = os.path.abspath(os.path.join(os.getcwd(), os.pardir, \"data_folder\"))\n",
    "sys.path.append(data_folder_path) \n",
    "\n",
    "from synth_dim_model import *\n",
    "from paraparticle_utils import *\n",
    "\n",
    "import numpy as np\n",
    "import matplotlib.pyplot as plt\n",
    "\n",
    "import warnings\n",
    "warnings.filterwarnings(\"ignore\")\n",
    "\n",
    "\n",
    "plt.rcParams.update({'font.size': 12})\n",
    "\n",
    "np.set_printoptions(precision=5, suppress=True, linewidth=100)\n"
   ]
  },
  {
   "cell_type": "code",
   "execution_count": 49,
   "id": "fca356ea",
   "metadata": {},
   "outputs": [
    {
     "name": "stdout",
     "output_type": "stream",
     "text": [
      "(1+0j): |0,2>\n",
      "\n",
      "(1+0j): |2,0>\n",
      "\n",
      "(1+0j): |0,0>\n",
      "\n",
      "(1+0j): |2,2>\n",
      "\n"
     ]
    }
   ],
   "source": [
    "N = 2\n",
    "M = 3\n",
    "V = 1\n",
    "\n",
    "states, formatted_states = enumerate_states(N, M)\n",
    "\n",
    "H = construct_hamiltonian(N, M, V = 1, mu = 0, J = 0)\n",
    "number_op = construct_total_paraparticle_number_operator(N)\n",
    "eigenvalues, eigenvectors, paraparticle_numbers = exact_diagonalize_with_total_paraparticle_number_symmetry(H, number_op)\n",
    "\n",
    "count = 0\n",
    "for i, state in enumerate(eigenvectors):\n",
    "    if np.round(paraparticle_numbers[i],3) == 2:\n",
    "        count += 1\n",
    "        for j in range(len(state)):\n",
    "            if np.round(state[j],3) != 0:\n",
    "                print(f\"{state[j]}: {formatted_states[j]}\")\n",
    "        print()"
   ]
  },
  {
   "cell_type": "code",
   "execution_count": 62,
   "id": "28203c3d",
   "metadata": {},
   "outputs": [
    {
     "name": "stdout",
     "output_type": "stream",
     "text": [
      "basis state 0 = [1. 0. 0. 0. 0. 0. 0. 0. 0.] * |0,0>\n",
      "has 2.0 paraparticles\n",
      "basis state 1 = [0. 1. 0. 0. 0. 0. 0. 0. 0.] * |0,1>\n",
      "has 1.0 paraparticles\n",
      "basis state 2 = [0. 0. 1. 0. 0. 0. 0. 0. 0.] * |0,2>\n",
      "has 2.0 paraparticles\n",
      "basis state 3 = [0. 0. 0. 1. 0. 0. 0. 0. 0.] * |1,0>\n",
      "has 1.0 paraparticles\n",
      "basis state 4 = [0. 0. 0. 0. 1. 0. 0. 0. 0.] * |1,1>\n",
      "has 0.0 paraparticles\n",
      "basis state 5 = [0. 0. 0. 0. 0. 1. 0. 0. 0.] * |1,2>\n",
      "has 1.0 paraparticles\n",
      "basis state 6 = [0. 0. 0. 0. 0. 0. 1. 0. 0.] * |2,0>\n",
      "has 2.0 paraparticles\n",
      "basis state 7 = [0. 0. 0. 0. 0. 0. 0. 1. 0.] * |2,1>\n",
      "has 1.0 paraparticles\n",
      "basis state 8 = [0. 0. 0. 0. 0. 0. 0. 0. 1.] * |2,2>\n",
      "has 2.0 paraparticles\n"
     ]
    }
   ],
   "source": [
    "for i, _ in enumerate(states):\n",
    "    vector = np.zeros(M**N)\n",
    "    vector[i] = 1\n",
    "    print(f\"basis state {i} = {vector} * {formatted_states[i]}\")\n",
    "    print(f\"has {vector.conj().T @ number_op @ vector} paraparticles\")\n",
    "    \n",
    "# so if a state has a zero, it has a \"down\" paraparticle\n",
    "# and if a state has a 2, it has an \"up\" paraparticle"
   ]
  },
  {
   "cell_type": "code",
   "execution_count": null,
   "id": "0d2d1c19",
   "metadata": {},
   "outputs": [],
   "source": []
  },
  {
   "cell_type": "code",
   "execution_count": null,
   "id": "066f0888",
   "metadata": {},
   "outputs": [],
   "source": []
  }
 ],
 "metadata": {
  "kernelspec": {
   "display_name": "synthetic_dim",
   "language": "python",
   "name": "python3"
  },
  "language_info": {
   "codemirror_mode": {
    "name": "ipython",
    "version": 3
   },
   "file_extension": ".py",
   "mimetype": "text/x-python",
   "name": "python",
   "nbconvert_exporter": "python",
   "pygments_lexer": "ipython3",
   "version": "3.12.4"
  }
 },
 "nbformat": 4,
 "nbformat_minor": 5
}
