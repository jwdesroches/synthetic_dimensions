{
 "cells": [
  {
   "cell_type": "code",
   "execution_count": 5,
   "metadata": {},
   "outputs": [],
   "source": [
    "import sys\n",
    "import os\n",
    "sys.path.append(os.path.abspath(os.path.join(os.getcwd(), os.pardir)))\n",
    "from synth_dim_model import *\n",
    "import numpy as np\n",
    "import matplotlib.pyplot as plt\n",
    "from scipy import sparse"
   ]
  },
  {
   "cell_type": "code",
   "execution_count": 6,
   "metadata": {},
   "outputs": [],
   "source": [
    "sigma_x = np.array([[0,1],[1,0]])\n",
    "sigma_z = np.array([[1,0],[0,-1]])\n",
    "id = np.eye(2)\n",
    "def create_ising_hamiltonian(N, J, g):\n",
    "    hamiltonian = np.zeros((2**N,2**N))\n",
    "    \n",
    "    # sigma_z * sigma_z term\n",
    "    for i in range(N-1):\n",
    "        term = 1\n",
    "        for j in range(N):\n",
    "            if j == i or j == i+1:\n",
    "                term = np.kron(term, sigma_z)\n",
    "            else:\n",
    "                term = np.kron(term, id)\n",
    "        hamiltonian += term\n",
    "        \n",
    "    # g sigma_x term\n",
    "    for i in range(N):\n",
    "        term = 1\n",
    "        for j in range(N):\n",
    "            if j == i:\n",
    "                term = np.kron(term, sigma_x)\n",
    "            else:\n",
    "                term = np.kron(term, id)\n",
    "        hamiltonian += g*term\n",
    "                \n",
    "    return -J*hamiltonian\n",
    "\n",
    "def create_magnetization_operator(N):\n",
    "    magnetization_operator = np.zeros((2**N,2**N))\n",
    "    for i in range(N):\n",
    "        term = 1\n",
    "        for j in range(N):\n",
    "            if j == i:\n",
    "                term = np.kron(term, sigma_z)\n",
    "            else:\n",
    "                term = np.kron(term, id)\n",
    "        magnetization_operator += term\n",
    "    return magnetization_operator/N"
   ]
  },
  {
   "cell_type": "code",
   "execution_count": 7,
   "metadata": {},
   "outputs": [],
   "source": [
    "N = 8\n",
    "J = 1\n",
    "g = 0.01\n",
    "\n",
    "hamiltonian = create_ising_hamiltonian(N, J, g)\n",
    "magnetization_operator = create_magnetization_operator(N)\n",
    "eigenvalues, eigenvectors = exact_diagonalize(hamiltonian)\n",
    "ground_state = eigenvectors[0]"
   ]
  },
  {
   "cell_type": "code",
   "execution_count": 8,
   "metadata": {},
   "outputs": [
    {
     "name": "stderr",
     "output_type": "stream",
     "text": [
      "c:\\Users\\Joe\\OneDrive\\Documents\\GitHub\\synthetic_dimensions\\synth_dim_model.py:198: SyntaxWarning: invalid escape sequence '\\d'\n",
      "  \"\"\"\n",
      "c:\\Users\\Joe\\OneDrive\\Documents\\GitHub\\synthetic_dimensions\\synth_dim_model.py:437: SyntaxWarning: invalid escape sequence '\\e'\n",
      "  ax.set_ylabel(\"Scaled Energy [$E/N|V| = \\epsilon/|V|$]\")\n",
      "c:\\Users\\Joe\\OneDrive\\Documents\\GitHub\\synthetic_dimensions\\synth_dim_model.py:454: SyntaxWarning: invalid escape sequence '\\R'\n",
      "  ax1.set_ylabel(\"$\\Re$ Component\")\n",
      "c:\\Users\\Joe\\OneDrive\\Documents\\GitHub\\synthetic_dimensions\\synth_dim_model.py:455: SyntaxWarning: invalid escape sequence '\\I'\n",
      "  ax2.set_ylabel(\"$\\Im$ Component\")\n",
      "c:\\Users\\Joe\\OneDrive\\Documents\\GitHub\\synthetic_dimensions\\synth_dim_model.py:472: SyntaxWarning: invalid escape sequence '\\s'\n",
      "  ax.set_title(f\"Time Evolved $\\sigma$: $N={N}$, $M={M}$, $V<0$, $(J/|V|)_f = {J_V_ratio_routine[-1]}$\")\n",
      "c:\\Users\\Joe\\OneDrive\\Documents\\GitHub\\synthetic_dimensions\\synth_dim_model.py:473: SyntaxWarning: invalid escape sequence '\\s'\n",
      "  ax.set_ylabel(\"$\\sigma^{01}/M$\")\n"
     ]
    },
    {
     "ename": "KeyboardInterrupt",
     "evalue": "",
     "output_type": "error",
     "traceback": [
      "\u001b[1;31m---------------------------------------------------------------------------\u001b[0m",
      "\u001b[1;31mKeyboardInterrupt\u001b[0m                         Traceback (most recent call last)",
      "Cell \u001b[1;32mIn[8], line 8\u001b[0m\n\u001b[0;32m      6\u001b[0m \u001b[38;5;28;01mfor\u001b[39;00m g \u001b[38;5;129;01min\u001b[39;00m gs:\n\u001b[0;32m      7\u001b[0m     hamiltonian \u001b[38;5;241m=\u001b[39m create_ising_hamiltonian(N, J, g)\n\u001b[1;32m----> 8\u001b[0m     eigenvalues, eigenvectors \u001b[38;5;241m=\u001b[39m \u001b[43mexact_diagonalize\u001b[49m\u001b[43m(\u001b[49m\u001b[43mhamiltonian\u001b[49m\u001b[43m)\u001b[49m  \n\u001b[0;32m      9\u001b[0m     ground_state \u001b[38;5;241m=\u001b[39m eigenvectors[\u001b[38;5;241m0\u001b[39m]  \n\u001b[0;32m     10\u001b[0m     magnetizations \u001b[38;5;241m+\u001b[39m\u001b[38;5;241m=\u001b[39m [np\u001b[38;5;241m.\u001b[39mdot(np\u001b[38;5;241m.\u001b[39mconjugate(ground_state)\u001b[38;5;241m.\u001b[39mT, np\u001b[38;5;241m.\u001b[39mdot(magnetization_operator, ground_state))]\n",
      "File \u001b[1;32mc:\\Users\\Joe\\OneDrive\\Documents\\GitHub\\synthetic_dimensions\\synth_dim_model.py:128\u001b[0m, in \u001b[0;36mexact_diagonalize\u001b[1;34m(H, use_sparse, k, verbose)\u001b[0m\n\u001b[0;32m    125\u001b[0m     \u001b[38;5;28;01mreturn\u001b[39;00m eigenvalues, [eigenvectors[:, i] \u001b[38;5;28;01mfor\u001b[39;00m i \u001b[38;5;129;01min\u001b[39;00m \u001b[38;5;28mrange\u001b[39m(k)]\n\u001b[0;32m    127\u001b[0m \u001b[38;5;28;01melse\u001b[39;00m:\n\u001b[1;32m--> 128\u001b[0m     eigenvalues, eigenvectors \u001b[38;5;241m=\u001b[39m \u001b[43mnp\u001b[49m\u001b[38;5;241;43m.\u001b[39;49m\u001b[43mlinalg\u001b[49m\u001b[38;5;241;43m.\u001b[39;49m\u001b[43meigh\u001b[49m\u001b[43m(\u001b[49m\u001b[43mH\u001b[49m\u001b[43m)\u001b[49m\n\u001b[0;32m    130\u001b[0m     \u001b[38;5;28;01mif\u001b[39;00m verbose:\n\u001b[0;32m    131\u001b[0m         \u001b[38;5;28mprint\u001b[39m(\u001b[38;5;124m\"\u001b[39m\u001b[38;5;124mEigenvalues:\u001b[39m\u001b[38;5;130;01m\\n\u001b[39;00m\u001b[38;5;124m\"\u001b[39m, eigenvalues)\n",
      "File \u001b[1;32mc:\\Users\\Joe\\anaconda3\\envs\\synthetic_dim\\Lib\\site-packages\\numpy\\linalg\\_linalg.py:1647\u001b[0m, in \u001b[0;36meigh\u001b[1;34m(a, UPLO)\u001b[0m\n\u001b[0;32m   1643\u001b[0m signature \u001b[38;5;241m=\u001b[39m \u001b[38;5;124m'\u001b[39m\u001b[38;5;124mD->dD\u001b[39m\u001b[38;5;124m'\u001b[39m \u001b[38;5;28;01mif\u001b[39;00m isComplexType(t) \u001b[38;5;28;01melse\u001b[39;00m \u001b[38;5;124m'\u001b[39m\u001b[38;5;124md->dd\u001b[39m\u001b[38;5;124m'\u001b[39m\n\u001b[0;32m   1644\u001b[0m \u001b[38;5;28;01mwith\u001b[39;00m errstate(call\u001b[38;5;241m=\u001b[39m_raise_linalgerror_eigenvalues_nonconvergence,\n\u001b[0;32m   1645\u001b[0m               invalid\u001b[38;5;241m=\u001b[39m\u001b[38;5;124m'\u001b[39m\u001b[38;5;124mcall\u001b[39m\u001b[38;5;124m'\u001b[39m, over\u001b[38;5;241m=\u001b[39m\u001b[38;5;124m'\u001b[39m\u001b[38;5;124mignore\u001b[39m\u001b[38;5;124m'\u001b[39m, divide\u001b[38;5;241m=\u001b[39m\u001b[38;5;124m'\u001b[39m\u001b[38;5;124mignore\u001b[39m\u001b[38;5;124m'\u001b[39m,\n\u001b[0;32m   1646\u001b[0m               under\u001b[38;5;241m=\u001b[39m\u001b[38;5;124m'\u001b[39m\u001b[38;5;124mignore\u001b[39m\u001b[38;5;124m'\u001b[39m):\n\u001b[1;32m-> 1647\u001b[0m     w, vt \u001b[38;5;241m=\u001b[39m \u001b[43mgufunc\u001b[49m\u001b[43m(\u001b[49m\u001b[43ma\u001b[49m\u001b[43m,\u001b[49m\u001b[43m \u001b[49m\u001b[43msignature\u001b[49m\u001b[38;5;241;43m=\u001b[39;49m\u001b[43msignature\u001b[49m\u001b[43m)\u001b[49m\n\u001b[0;32m   1648\u001b[0m w \u001b[38;5;241m=\u001b[39m w\u001b[38;5;241m.\u001b[39mastype(_realType(result_t), copy\u001b[38;5;241m=\u001b[39m\u001b[38;5;28;01mFalse\u001b[39;00m)\n\u001b[0;32m   1649\u001b[0m vt \u001b[38;5;241m=\u001b[39m vt\u001b[38;5;241m.\u001b[39mastype(result_t, copy\u001b[38;5;241m=\u001b[39m\u001b[38;5;28;01mFalse\u001b[39;00m)\n",
      "\u001b[1;31mKeyboardInterrupt\u001b[0m: "
     ]
    }
   ],
   "source": [
    "N = 12\n",
    "J = 1\n",
    "gs = 10**np.linspace(-2,2,25)\n",
    "magnetization_operator = create_magnetization_operator(N)\n",
    "magnetizations = []\n",
    "for g in gs:\n",
    "    hamiltonian = create_ising_hamiltonian(N, J, g)\n",
    "    eigenvalues, eigenvectors = exact_diagonalize(hamiltonian)  \n",
    "    ground_state = eigenvectors[0]  \n",
    "    magnetizations += [np.dot(np.conjugate(ground_state).T, np.dot(magnetization_operator, ground_state))]\n"
   ]
  },
  {
   "cell_type": "code",
   "execution_count": null,
   "metadata": {},
   "outputs": [],
   "source": [
    "fig, ax = plt.subplots()\n",
    "ax.plot(gs, magnetizations, '.k')\n",
    "ax.set_xscale('log')"
   ]
  },
  {
   "cell_type": "code",
   "execution_count": null,
   "metadata": {},
   "outputs": [],
   "source": []
  }
 ],
 "metadata": {
  "kernelspec": {
   "display_name": "synthetic_dim",
   "language": "python",
   "name": "python3"
  },
  "language_info": {
   "codemirror_mode": {
    "name": "ipython",
    "version": 3
   },
   "file_extension": ".py",
   "mimetype": "text/x-python",
   "name": "python",
   "nbconvert_exporter": "python",
   "pygments_lexer": "ipython3",
   "version": "3.12.4"
  }
 },
 "nbformat": 4,
 "nbformat_minor": 2
}
