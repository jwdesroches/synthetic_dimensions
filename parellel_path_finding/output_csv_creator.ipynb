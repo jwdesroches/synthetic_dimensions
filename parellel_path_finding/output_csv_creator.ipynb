{
 "cells": [
  {
   "cell_type": "code",
   "execution_count": 1,
   "id": "58e99b97",
   "metadata": {},
   "outputs": [],
   "source": [
    "import sys\n",
    "import os\n",
    "\n",
    "parent_dir = os.path.abspath(os.path.join(os.getcwd(), os.pardir))\n",
    "sys.path.append(parent_dir)\n",
    "\n",
    "from synth_dim_model import *\n",
    "\n",
    "import numpy as np\n",
    "import matplotlib.pyplot as plt\n",
    "from matplotlib.cm import get_cmap\n",
    "import pandas as pd\n",
    "\n",
    "import warnings\n",
    "warnings.filterwarnings(\"ignore\")"
   ]
  },
  {
   "cell_type": "code",
   "execution_count": 2,
   "id": "9057a181",
   "metadata": {},
   "outputs": [
    {
     "name": "stdout",
     "output_type": "stream",
     "text": [
      "CSV saved as compiled_results.csv\n"
     ]
    }
   ],
   "source": [
    "script_dir = os.getcwd()\n",
    "data_folder_path = os.path.join(script_dir, \"parallel_results\")\n",
    "\n",
    "data_list = []\n",
    "for filename in os.listdir(data_folder_path):\n",
    "    if filename.startswith(\"output_\") and filename.endswith(\".txt\"):\n",
    "        file_path = os.path.join(data_folder_path, filename)\n",
    "        \n",
    "        data_dict = {}\n",
    "        \n",
    "        with open(file_path, 'r') as f:\n",
    "            for line in f:\n",
    "                # Split on '=' or ':' to get key and value\n",
    "                if '=' in line:\n",
    "                    key, value = line.strip().split('=')\n",
    "                elif ':' in line:\n",
    "                    key, value = line.strip().split(':')\n",
    "                else:\n",
    "                    continue\n",
    "                \n",
    "                key = key.strip()\n",
    "                value = value.strip()\n",
    "\n",
    "                # Try converting to float or int\n",
    "                try:\n",
    "                    if '.' in value or 'e' in value.lower():\n",
    "                        value = float(value)\n",
    "                    else:\n",
    "                        value = int(value)\n",
    "                except ValueError:\n",
    "                    pass  # Keep as string if it can't be converted\n",
    "\n",
    "                data_dict[key] = value\n",
    "\n",
    "        data_list.append(data_dict)\n",
    "\n",
    "df = pd.DataFrame(data_list)\n",
    "df.to_csv('compiled_results.csv', index=False)\n",
    "print(\"CSV saved as compiled_results.csv\")"
   ]
  }
 ],
 "metadata": {
  "kernelspec": {
   "display_name": "synthetic_dim",
   "language": "python",
   "name": "python3"
  },
  "language_info": {
   "codemirror_mode": {
    "name": "ipython",
    "version": 3
   },
   "file_extension": ".py",
   "mimetype": "text/x-python",
   "name": "python",
   "nbconvert_exporter": "python",
   "pygments_lexer": "ipython3",
   "version": "3.8.19"
  }
 },
 "nbformat": 4,
 "nbformat_minor": 5
}
