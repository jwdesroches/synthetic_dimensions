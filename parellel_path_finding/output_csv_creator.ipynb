{
 "cells": [
  {
   "cell_type": "code",
   "execution_count": 1,
   "id": "58e99b97",
   "metadata": {},
   "outputs": [],
   "source": [
    "import os\n",
    "import pandas as pd"
   ]
  },
  {
   "cell_type": "code",
   "execution_count": 2,
   "id": "0c296e68",
   "metadata": {},
   "outputs": [
    {
     "name": "stdout",
     "output_type": "stream",
     "text": [
      "CSV saved to c:\\Users\\Joe\\OneDrive\\Documents\\GitHub\\synthetic_dimensions\\parellel_path_finding/compiled_results.csv\n"
     ]
    }
   ],
   "source": [
    "output_dir = os.path.join(os.getcwd(), \"combined_results\")\n",
    "data_list = []\n",
    "\n",
    "for filename in os.listdir(output_dir):\n",
    "    if filename.endswith(\".txt\") and filename.startswith(\"N=\"):\n",
    "        file_path = os.path.join(output_dir, filename)\n",
    "\n",
    "        with open(file_path, 'r') as f:\n",
    "            lines = f.readlines()\n",
    "\n",
    "        data_dict = {}\n",
    "        for line in lines:\n",
    "            if ':' in line:\n",
    "                key, value = line.strip().split(':', 1)\n",
    "                key = key.strip()\n",
    "                value = value.strip()\n",
    "                try:\n",
    "                    if '.' in value or 'e' in value.lower():\n",
    "                        value = float(value)\n",
    "                    else:\n",
    "                        value = int(value)\n",
    "                except ValueError:\n",
    "                    pass\n",
    "                data_dict[key] = value\n",
    "\n",
    "        if data_dict:\n",
    "            data_list.append(data_dict)\n",
    "\n",
    "# Save CSV\n",
    "if data_list:\n",
    "    parent_folder = os.path.dirname(output_dir)  # Get the parent folder of output_dir\n",
    "    df = pd.DataFrame(data_list)\n",
    "    df.to_csv(os.path.join(parent_folder, 'compiled_results.csv'), index=False)\n",
    "    print(f\"CSV saved to {parent_folder}/compiled_results.csv\")\n",
    "else:\n",
    "    print(\"No valid data found for CSV.\")\n"
   ]
  }
 ],
 "metadata": {
  "kernelspec": {
   "display_name": "synthetic_dim",
   "language": "python",
   "name": "python3"
  },
  "language_info": {
   "codemirror_mode": {
    "name": "ipython",
    "version": 3
   },
   "file_extension": ".py",
   "mimetype": "text/x-python",
   "name": "python",
   "nbconvert_exporter": "python",
   "pygments_lexer": "ipython3",
   "version": "3.12.4"
  }
 },
 "nbformat": 4,
 "nbformat_minor": 5
}
