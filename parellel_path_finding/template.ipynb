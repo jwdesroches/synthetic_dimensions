{
 "cells": [
  {
   "cell_type": "code",
   "execution_count": null,
   "id": "b1b3bb91",
   "metadata": {},
   "outputs": [
    {
     "name": "stdout",
     "output_type": "stream",
     "text": [
      "GROUND_STATE_OVERLAP: 0.05463053596342139\n",
      "ENERGY_DIFFERENCE: 1.394717627049694\n"
     ]
    }
   ],
   "source": [
    "from barebones_synth_dim_model import *\n",
    "import warnings\n",
    "warnings.filterwarnings(\"ignore\")\n",
    "\n",
    "# REMOVE THIS FOR HPC\n",
    "PARAM1 = 3\n",
    "PARAM2 = 3\n",
    "PARAM3 = 3\n",
    "PARAM4 = 1\n",
    "PARAM5 = 0.5\n",
    "\n",
    "N = PARAM1\n",
    "M = PARAM2\n",
    "T = PARAM3\n",
    "V = PARAM4\n",
    "J_V_final = PARAM5\n",
    "\n",
    "dt = 0.01\n",
    "\n",
    "J_V_init = 0.1\n",
    "\n",
    "mu_V_init = 10\n",
    "mu_V_final = 0\n",
    "\n",
    "num_control_points = 7\n",
    "\n",
    "# Run optimization\n",
    "results = create_optimal_piecewise_linear_paths(N, M, T, dt, V, J_V_init, J_V_final, mu_V_init, mu_V_final, num_control_points, alpha = 2)\n",
    "(times_dense, J_V_path, mu_V_path, obj_value, opt_params, t_control_opt, J_control_opt, mu_control_opt) = results\n",
    "\n",
    "hamiltonians = []\n",
    "for i, t in enumerate(times_dense):\n",
    "    ham = construct_rescaled_hamiltonian(N, M, V, mu_V_ratio=mu_V_path[i],J_V_ratio=J_V_path[i])\n",
    "    hamiltonians.append(ham)\n",
    "\n",
    "final_results = simulate_hamiltonian_time_evolution(hamiltonians, times_dense)\n",
    "energies, time_evolved_wavefunctions, state_probabilities, state_overlaps, true_energies, ground_state_manifold_overlaps = final_results\n",
    "\n",
    "print(f\"GROUND_STATE_OVERLAP: {ground_state_manifold_overlaps[-1]}\")\n",
    "print(f\"ENERGY_DIFFERENCE: {energies[-1] - true_energies[-1,0]}\")"
   ]
  }
 ],
 "metadata": {
  "kernelspec": {
   "display_name": "synthetic_dim",
   "language": "python",
   "name": "python3"
  },
  "language_info": {
   "codemirror_mode": {
    "name": "ipython",
    "version": 3
   },
   "file_extension": ".py",
   "mimetype": "text/x-python",
   "name": "python",
   "nbconvert_exporter": "python",
   "pygments_lexer": "ipython3",
   "version": "3.8.19"
  }
 },
 "nbformat": 4,
 "nbformat_minor": 5
}
