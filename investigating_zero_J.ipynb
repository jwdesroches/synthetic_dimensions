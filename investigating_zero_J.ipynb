{
 "cells": [
  {
   "cell_type": "code",
   "execution_count": null,
   "metadata": {},
   "outputs": [
    {
     "ename": "",
     "evalue": "",
     "output_type": "error",
     "traceback": [
      "\u001b[1;31mRunning cells with 'synthetic_dim (Python 3.8.19)' requires the ipykernel package.\n",
      "\u001b[1;31mRun the following command to install 'ipykernel' into the Python environment. \n",
      "\u001b[1;31mCommand: 'conda install -n synthetic_dim ipykernel --update-deps --force-reinstall'"
     ]
    }
   ],
   "source": [
    "import numpy as np\n",
    "from synth_dim_model import *\n",
    "import matplotlib.pyplot as plt\n",
    "from matplotlib.cm import get_cmap"
   ]
  },
  {
   "cell_type": "code",
   "execution_count": null,
   "metadata": {},
   "outputs": [
    {
     "ename": "",
     "evalue": "",
     "output_type": "error",
     "traceback": [
      "\u001b[1;31mRunning cells with 'synthetic_dim (Python 3.8.19)' requires the ipykernel package.\n",
      "\u001b[1;31mRun the following command to install 'ipykernel' into the Python environment. \n",
      "\u001b[1;31mCommand: 'conda install -n synthetic_dim ipykernel --update-deps --force-reinstall'"
     ]
    }
   ],
   "source": [
    "Vs = np.linspace(0, 5, 1)\n",
    "Ns = [5]\n",
    "Ms = [5]\n",
    "\n",
    "fig, ax = plt.subplots(figsize=(10, 5))\n",
    "cmap = plt.get_cmap('gist_rainbow', len(Ns))\n",
    "\n",
    "for i, N in enumerate(Ns):\n",
    "    for j, M in enumerate(Ms):\n",
    "        gs_eps_array = []\n",
    "\n",
    "        for V in Vs:\n",
    "            H = construct_hamiltonian(N, M, J=0, V=V)\n",
    "            eigenvalues, eigenvectors = exact_diagonalize(H)\n",
    "            eps = [energy/V for energy in eigenvalues]\n",
    "            gs_eps_array.append(eps[0])\n",
    "\n",
    "        color = cmap(i)\n",
    "        ax.plot(Vs, gs_eps_array, \".\", color=color, label=f\"$N={N}$\")\n",
    "        ax.plot(Vs, gs_eps_array, \"-\", color=color)\n",
    "\n",
    "ax.set_xlabel(\"Interaction Strength Constant V\")\n",
    "ax.set_ylabel(\"$\\\\epsilon$ [E/N]\")\n",
    "ax.legend(loc=\"upper center\", ncols=len(Ns), fancybox=True)\n",
    "ax.grid()\n",
    "ax.set_ylim(bottom = None, top = 0)\n",
    "ax.set_title(f\"Ground State $\\\\epsilon_0$: $M = ${M},  $J=0$\")\n",
    "\n",
    "plt.show()\n"
   ]
  },
  {
   "cell_type": "code",
   "execution_count": null,
   "metadata": {},
   "outputs": [
    {
     "ename": "",
     "evalue": "",
     "output_type": "error",
     "traceback": [
      "\u001b[1;31mRunning cells with 'synthetic_dim (Python 3.8.19)' requires the ipykernel package.\n",
      "\u001b[1;31mRun the following command to install 'ipykernel' into the Python environment. \n",
      "\u001b[1;31mCommand: 'conda install -n synthetic_dim ipykernel --update-deps --force-reinstall'"
     ]
    }
   ],
   "source": [
    "Vs = np.linspace(-5, 5, 100)\n",
    "Ns = [2, 3, 4, 5, 6]\n",
    "Ms = [3]\n",
    "\n",
    "fig, ax = plt.subplots(figsize=(10, 5))\n",
    "cmap = plt.get_cmap('gist_rainbow', len(Ns))\n",
    "\n",
    "for i, N in enumerate(Ns):\n",
    "    for j, M in enumerate(Ms):\n",
    "        gs_eps_array = []\n",
    "\n",
    "        for V in Vs:\n",
    "            H = construct_hamiltonian(N, M, J=0, V=V)\n",
    "            eigenvalues, eigenvectors = exact_diagonalize(H)\n",
    "            eps = [energy / N for energy in eigenvalues]\n",
    "            gs_eps_array.append(eps[0])\n",
    "\n",
    "        color = cmap(i)\n",
    "        ax.plot(Vs, gs_eps_array, \".\", color=color, label=f\"$N={N}$\")\n",
    "        ax.plot(Vs, gs_eps_array, \"-\", color=color)\n",
    "\n",
    "ax.set_xlabel(\"Interaction Strength Constant V\")\n",
    "ax.set_ylabel(\"$\\\\epsilon$ [E/N]\")\n",
    "ax.legend(loc=\"upper center\", ncols=len(Ns), fancybox=True)\n",
    "ax.set_ylim(bottom=None, top=0.5)\n",
    "ax.grid()\n",
    "ax.set_title(f\"Ground State $\\\\epsilon_0$: $M = ${M},  $J=0$\")\n",
    "\n",
    "plt.show()\n"
   ]
  },
  {
   "cell_type": "code",
   "execution_count": null,
   "metadata": {},
   "outputs": [
    {
     "ename": "",
     "evalue": "",
     "output_type": "error",
     "traceback": [
      "\u001b[1;31mRunning cells with 'synthetic_dim (Python 3.8.19)' requires the ipykernel package.\n",
      "\u001b[1;31mRun the following command to install 'ipykernel' into the Python environment. \n",
      "\u001b[1;31mCommand: 'conda install -n synthetic_dim ipykernel --update-deps --force-reinstall'"
     ]
    }
   ],
   "source": [
    "H = construct_hamiltonian(N=2,M=4,V=0,J=1)"
   ]
  },
  {
   "cell_type": "code",
   "execution_count": null,
   "metadata": {},
   "outputs": [
    {
     "ename": "",
     "evalue": "",
     "output_type": "error",
     "traceback": [
      "\u001b[1;31mRunning cells with 'synthetic_dim (Python 3.8.19)' requires the ipykernel package.\n",
      "\u001b[1;31mRun the following command to install 'ipykernel' into the Python environment. \n",
      "\u001b[1;31mCommand: 'conda install -n synthetic_dim ipykernel --update-deps --force-reinstall'"
     ]
    }
   ],
   "source": []
  }
 ],
 "metadata": {
  "kernelspec": {
   "display_name": "synthetic_dim",
   "language": "python",
   "name": "python3"
  },
  "language_info": {
   "codemirror_mode": {
    "name": "ipython",
    "version": 3
   },
   "file_extension": ".py",
   "mimetype": "text/x-python",
   "name": "python",
   "nbconvert_exporter": "python",
   "pygments_lexer": "ipython3",
   "version": "3.8.19"
  }
 },
 "nbformat": 4,
 "nbformat_minor": 2
}
